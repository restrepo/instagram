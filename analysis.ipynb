{
 "cells": [
  {
   "cell_type": "markdown",
   "metadata": {},
   "source": [
    "## Several fits"
   ]
  },
  {
   "cell_type": "markdown",
   "metadata": {
    "tags": []
   },
   "source": [
    "## General"
   ]
  },
  {
   "cell_type": "code",
   "execution_count": 1,
   "metadata": {},
   "outputs": [
    {
     "name": "stdout",
     "output_type": "stream",
     "text": [
      "Populating the interactive namespace from numpy and matplotlib\n"
     ]
    }
   ],
   "source": [
    "import pandas as pd\n",
    "from scipy import optimize\n",
    "%pylab inline"
   ]
  },
  {
   "cell_type": "markdown",
   "metadata": {
    "tags": []
   },
   "source": [
    "## Linear"
   ]
  },
  {
   "cell_type": "code",
   "execution_count": 2,
   "metadata": {},
   "outputs": [
    {
     "data": {
      "image/png": "[encoded data removed]",
      "text/plain": [
       "<Figure size 432x288 with 1 Axes>"
      ]
     },
     "metadata": {
      "needs_background": "light"
     },
     "output_type": "display_data"
    }
   ],
   "source": [
    "def line(x,m,b):\n",
    "    return m*x+b\n",
    "\n",
    "df=pd.read_json('followers.json')\n",
    "df=df.iloc[-1500:].reset_index(drop=True)\n",
    "#df=df[-20:].reset_index(drop=True)\n",
    "\n",
    "#df['hours']=df['date_time'].apply(lambda t: (t-df.loc[0,'date_time']).seconds/3600  )\n",
    "df['hours']=df['date_time'].apply(lambda t: (t.timestamp()-df.loc[0,'date_time'].timestamp())/3600  )\n",
    "#df=df[df['hours']>850].reset_index(drop=True)\n",
    "\n",
    "plt.plot(df['hours'],df['followers'],'c+')\n",
    "\n",
    "#Fit:\n",
    "l,le=optimize.curve_fit(line,df['hours'],df['followers'],p0=[8,40000])\n",
    "m,b=l\n",
    "plt.plot(df['hours'],line(df['hours'],m,b),linestyle='--',color='k')\n",
    "plt.title('$f(t)=%s\\\\,t+%s$ → %s Followers/hour' %(round(m,1),int(b),round(m,1)),fontsize=15)\n",
    "plt.xlabel('$t$ [hours]',size=15)\n",
    "plt.ylabel('$f(t)$ [Followers]',size=15)\n",
    "plt.grid()\n",
    "plt.savefig('followers.png')"
   ]
  },
  {
   "cell_type": "code",
   "execution_count": 3,
   "metadata": {},
   "outputs": [
    {
     "data": {
      "text/html": [
       "<div>\n",
       "<style scoped>\n",
       "    .dataframe tbody tr th:only-of-type {\n",
       "        vertical-align: middle;\n",
       "    }\n",
       "\n",
       "    .dataframe tbody tr th {\n",
       "        vertical-align: top;\n",
       "    }\n",
       "\n",
       "    .dataframe thead th {\n",
       "        text-align: right;\n",
       "    }\n",
       "</style>\n",
       "<table border=\"1\" class=\"dataframe\">\n",
       "  <thead>\n",
       "    <tr style=\"text-align: right;\">\n",
       "      <th></th>\n",
       "      <th>followers</th>\n",
       "      <th>date_time</th>\n",
       "      <th>hours</th>\n",
       "      <th>Δf</th>\n",
       "    </tr>\n",
       "  </thead>\n",
       "  <tbody>\n",
       "    <tr>\n",
       "      <th>1480</th>\n",
       "      <td>65692</td>\n",
       "      <td>2022-02-13 17:57:21.792</td>\n",
       "      <td>1885.405252</td>\n",
       "      <td>1</td>\n",
       "    </tr>\n",
       "    <tr>\n",
       "      <th>1481</th>\n",
       "      <td>65695</td>\n",
       "      <td>2022-02-13 18:57:36.931</td>\n",
       "      <td>1886.409457</td>\n",
       "      <td>3</td>\n",
       "    </tr>\n",
       "    <tr>\n",
       "      <th>1482</th>\n",
       "      <td>65703</td>\n",
       "      <td>2022-02-13 19:57:40.614</td>\n",
       "      <td>1887.410480</td>\n",
       "      <td>8</td>\n",
       "    </tr>\n",
       "    <tr>\n",
       "      <th>1483</th>\n",
       "      <td>65706</td>\n",
       "      <td>2022-02-13 20:57:43.830</td>\n",
       "      <td>1888.411374</td>\n",
       "      <td>3</td>\n",
       "    </tr>\n",
       "    <tr>\n",
       "      <th>1484</th>\n",
       "      <td>65711</td>\n",
       "      <td>2022-02-13 21:57:46.920</td>\n",
       "      <td>1889.412232</td>\n",
       "      <td>5</td>\n",
       "    </tr>\n",
       "    <tr>\n",
       "      <th>1485</th>\n",
       "      <td>65718</td>\n",
       "      <td>2022-02-13 22:57:49.443</td>\n",
       "      <td>1890.412933</td>\n",
       "      <td>7</td>\n",
       "    </tr>\n",
       "    <tr>\n",
       "      <th>1486</th>\n",
       "      <td>65718</td>\n",
       "      <td>2022-02-13 23:57:53.359</td>\n",
       "      <td>1891.414021</td>\n",
       "      <td>0</td>\n",
       "    </tr>\n",
       "    <tr>\n",
       "      <th>1487</th>\n",
       "      <td>65719</td>\n",
       "      <td>2022-02-14 00:57:56.892</td>\n",
       "      <td>1892.415002</td>\n",
       "      <td>1</td>\n",
       "    </tr>\n",
       "    <tr>\n",
       "      <th>1488</th>\n",
       "      <td>65727</td>\n",
       "      <td>2022-02-14 01:57:59.528</td>\n",
       "      <td>1893.415734</td>\n",
       "      <td>8</td>\n",
       "    </tr>\n",
       "    <tr>\n",
       "      <th>1489</th>\n",
       "      <td>65732</td>\n",
       "      <td>2022-02-14 02:58:02.259</td>\n",
       "      <td>1894.416493</td>\n",
       "      <td>5</td>\n",
       "    </tr>\n",
       "    <tr>\n",
       "      <th>1490</th>\n",
       "      <td>65734</td>\n",
       "      <td>2022-02-14 03:58:05.576</td>\n",
       "      <td>1895.417414</td>\n",
       "      <td>2</td>\n",
       "    </tr>\n",
       "    <tr>\n",
       "      <th>1491</th>\n",
       "      <td>65739</td>\n",
       "      <td>2022-02-14 04:58:09.317</td>\n",
       "      <td>1896.418453</td>\n",
       "      <td>5</td>\n",
       "    </tr>\n",
       "    <tr>\n",
       "      <th>1492</th>\n",
       "      <td>65740</td>\n",
       "      <td>2022-02-14 05:58:12.277</td>\n",
       "      <td>1897.419276</td>\n",
       "      <td>1</td>\n",
       "    </tr>\n",
       "    <tr>\n",
       "      <th>1493</th>\n",
       "      <td>65740</td>\n",
       "      <td>2022-02-14 06:58:15.120</td>\n",
       "      <td>1898.420065</td>\n",
       "      <td>0</td>\n",
       "    </tr>\n",
       "    <tr>\n",
       "      <th>1494</th>\n",
       "      <td>65740</td>\n",
       "      <td>2022-02-14 07:58:17.861</td>\n",
       "      <td>1899.420827</td>\n",
       "      <td>0</td>\n",
       "    </tr>\n",
       "    <tr>\n",
       "      <th>1495</th>\n",
       "      <td>65742</td>\n",
       "      <td>2022-02-14 08:58:22.001</td>\n",
       "      <td>1900.421977</td>\n",
       "      <td>2</td>\n",
       "    </tr>\n",
       "    <tr>\n",
       "      <th>1496</th>\n",
       "      <td>65743</td>\n",
       "      <td>2022-02-14 09:58:25.477</td>\n",
       "      <td>1901.422942</td>\n",
       "      <td>1</td>\n",
       "    </tr>\n",
       "    <tr>\n",
       "      <th>1497</th>\n",
       "      <td>65747</td>\n",
       "      <td>2022-02-14 10:58:28.171</td>\n",
       "      <td>1902.423691</td>\n",
       "      <td>4</td>\n",
       "    </tr>\n",
       "    <tr>\n",
       "      <th>1498</th>\n",
       "      <td>65747</td>\n",
       "      <td>2022-02-14 11:58:30.852</td>\n",
       "      <td>1903.424435</td>\n",
       "      <td>0</td>\n",
       "    </tr>\n",
       "    <tr>\n",
       "      <th>1499</th>\n",
       "      <td>65755</td>\n",
       "      <td>2022-02-14 12:58:34.036</td>\n",
       "      <td>1904.425320</td>\n",
       "      <td>8</td>\n",
       "    </tr>\n",
       "  </tbody>\n",
       "</table>\n",
       "</div>"
      ],
      "text/plain": [
       "      followers               date_time        hours  Δf\n",
       "1480      65692 2022-02-13 17:57:21.792  1885.405252   1\n",
       "1481      65695 2022-02-13 18:57:36.931  1886.409457   3\n",
       "1482      65703 2022-02-13 19:57:40.614  1887.410480   8\n",
       "1483      65706 2022-02-13 20:57:43.830  1888.411374   3\n",
       "1484      65711 2022-02-13 21:57:46.920  1889.412232   5\n",
       "1485      65718 2022-02-13 22:57:49.443  1890.412933   7\n",
       "1486      65718 2022-02-13 23:57:53.359  1891.414021   0\n",
       "1487      65719 2022-02-14 00:57:56.892  1892.415002   1\n",
       "1488      65727 2022-02-14 01:57:59.528  1893.415734   8\n",
       "1489      65732 2022-02-14 02:58:02.259  1894.416493   5\n",
       "1490      65734 2022-02-14 03:58:05.576  1895.417414   2\n",
       "1491      65739 2022-02-14 04:58:09.317  1896.418453   5\n",
       "1492      65740 2022-02-14 05:58:12.277  1897.419276   1\n",
       "1493      65740 2022-02-14 06:58:15.120  1898.420065   0\n",
       "1494      65740 2022-02-14 07:58:17.861  1899.420827   0\n",
       "1495      65742 2022-02-14 08:58:22.001  1900.421977   2\n",
       "1496      65743 2022-02-14 09:58:25.477  1901.422942   1\n",
       "1497      65747 2022-02-14 10:58:28.171  1902.423691   4\n",
       "1498      65747 2022-02-14 11:58:30.852  1903.424435   0\n",
       "1499      65755 2022-02-14 12:58:34.036  1904.425320   8"
      ]
     },
     "execution_count": 3,
     "metadata": {},
     "output_type": "execute_result"
    }
   ],
   "source": [
    "df['Δf']=[0]+list(df.followers.values[1:]-df.followers.values[:-1])\n",
    "df.iloc[-20:]#[-24*1:]#['Δf'].sum()"
   ]
  },
  {
   "cell_type": "code",
   "execution_count": 15,
   "metadata": {},
   "outputs": [
    {
     "data": {
      "text/plain": [
       "-33"
      ]
     },
     "execution_count": 15,
     "metadata": {},
     "output_type": "execute_result"
    }
   ],
   "source": [
    "df.Δf.min()"
   ]
  },
  {
   "cell_type": "code",
   "execution_count": 4,
   "metadata": {},
   "outputs": [
    {
     "data": {
      "image/png": "[encoded data removed]",
      "text/plain": [
       "<Figure size 432x288 with 1 Axes>"
      ]
     },
     "metadata": {
      "needs_background": "light"
     },
     "output_type": "display_data"
    }
   ],
   "source": [
    "t=np.linspace(0,900)\n",
    "dfl=df[df['Δf']<41]\n",
    "plt.plot(dfl['hours'],dfl['Δf'],'c.')\n",
    "ll,lle=optimize.curve_fit(line,df['hours'],df['Δf'],p0=[-0.1,15])\n",
    "ml,bl=ll\n",
    "plt.plot(df['hours'],line(df['hours'],ml,bl),linestyle='--',color='k')\n",
    "#plt.plot(t,-0.01*t+10)\n",
    "plt.title('$\\Delta(t)=%s\\\\,t+%s$ → %s Followers/hour${}^2$' %(round(ml,4),round(bl,2),round(ml,4)),fontsize=15)\n",
    "plt.ylabel('$\\Delta(t)$ [followers/hour]',size=15)\n",
    "plt.xlabel('$t$ [hours]',size=15)\n",
    "plt.grid()"
   ]
  },
  {
   "cell_type": "markdown",
   "metadata": {},
   "source": [
    "Prediction\n",
    "\n",
    "$y=mx+b$ → $x=(y-b)/m$"
   ]
  },
  {
   "cell_type": "code",
   "execution_count": 5,
   "metadata": {},
   "outputs": [],
   "source": [
    "def hours(y,m,b):\n",
    "    return (y-b)/m"
   ]
  },
  {
   "cell_type": "code",
   "execution_count": 6,
   "metadata": {},
   "outputs": [
    {
     "data": {
      "text/plain": [
       "482"
      ]
     },
     "execution_count": 6,
     "metadata": {},
     "output_type": "execute_result"
    }
   ],
   "source": [
    "y=60000\n",
    "h=int(round(hours(y,m,b),0))\n",
    "h"
   ]
  },
  {
   "cell_type": "code",
   "execution_count": 45,
   "metadata": {},
   "outputs": [],
   "source": [
    "import datetime"
   ]
  },
  {
   "cell_type": "code",
   "execution_count": 46,
   "metadata": {},
   "outputs": [
    {
     "name": "stdout",
     "output_type": "stream",
     "text": [
      "t0 → 2021-08-04 22:06:53.668000\n",
      "2021-11-25 01:06:53.668000\n"
     ]
    }
   ],
   "source": [
    "t0=df.loc[0,'date_time']\n",
    "print(f't0 → {t0}')\n",
    "print(f'{t0+datetime.timedelta(hours=h)}')"
   ]
  },
  {
   "cell_type": "code",
   "execution_count": 47,
   "metadata": {},
   "outputs": [],
   "source": [
    "df['pred']=df['hours'].apply(lambda x: int(m*x+b)) "
   ]
  },
  {
   "cell_type": "markdown",
   "metadata": {},
   "source": [
    "Errores"
   ]
  },
  {
   "cell_type": "code",
   "execution_count": 48,
   "metadata": {},
   "outputs": [],
   "source": [
    "Δm=np.sqrt(le[0,0])\n",
    "Δb=np.sqrt(le[1,1])"
   ]
  },
  {
   "cell_type": "code",
   "execution_count": 49,
   "metadata": {},
   "outputs": [
    {
     "data": {
      "text/plain": [
       "(6.020634189030989, 6.057194954625485)"
      ]
     },
     "execution_count": 49,
     "metadata": {},
     "output_type": "execute_result"
    }
   ],
   "source": [
    "m-Δm,m+Δm"
   ]
  },
  {
   "cell_type": "code",
   "execution_count": 50,
   "metadata": {},
   "outputs": [
    {
     "data": {
      "text/plain": [
       "(43721.22523439737, 43780.021194331086)"
      ]
     },
     "execution_count": 50,
     "metadata": {},
     "output_type": "execute_result"
    }
   ],
   "source": [
    "b-Δb,b+Δb"
   ]
  },
  {
   "cell_type": "code",
   "execution_count": 51,
   "metadata": {},
   "outputs": [
    {
     "data": {
      "text/plain": [
       "3146.237955555585"
      ]
     },
     "execution_count": 51,
     "metadata": {},
     "output_type": "execute_result"
    }
   ],
   "source": [
    "df.iloc[-1]['hours']+10*24"
   ]
  },
  {
   "cell_type": "markdown",
   "metadata": {
    "tags": []
   },
   "source": [
    "## Cuadratic"
   ]
  },
  {
   "cell_type": "code",
   "execution_count": 45,
   "metadata": {},
   "outputs": [
    {
     "data": {
      "image/png": "[encoded data removed]",
      "text/plain": [
       "<Figure size 432x288 with 1 Axes>"
      ]
     },
     "metadata": {
      "needs_background": "light"
     },
     "output_type": "display_data"
    }
   ],
   "source": [
    "import pandas as pd\n",
    "def curve(x,a,b,c):\n",
    "    return a*x**2+b*x+c\n",
    "\n",
    "df=pd.read_json('followers.json')\n",
    "df=df.iloc[-1500:].reset_index(drop=True)\n",
    "df['hours']=df['date_time'].apply(lambda t: (t.timestamp()-df.loc[0,'date_time'].timestamp())/3600  )\n",
    "\n",
    "\n",
    "l,le=optimize.curve_fit(curve,df['hours'],df['followers'],p0=[0.1,8,40000])\n",
    "\n",
    "#df['hours']=df['date_time'].apply(lambda t: (t-df.loc[0,'date_time']).seconds/3600  )\n",
    "df['hours']=df['date_time'].apply(lambda t: (t.timestamp()-df.loc[0,'date_time'].timestamp())/3600  )\n",
    "plt.plot(df['hours'],df['followers'],'c+')\n",
    "\n",
    "\n",
    "l,le=optimize.curve_fit(curve,df['hours'],df['followers'],p0=[0.1,8,40000])\n",
    "a,b,c=l\n",
    "\n",
    "\n",
    "#Fit:\n",
    "p=np.poly1d([a,b,c])\n",
    "v=p.deriv()\n",
    "tmax=v.roots[0]\n",
    "t=np.linspace(0,df.iloc[-1]['hours']+10*24)\n",
    "\n",
    "\n",
    "plt.plot(t,curve(t,a,b,c),linestyle='--',color='k')\n",
    "plt.title('$f(t)=%s\\\\,t^2+%s\\\\,t+%s \\\\to f_{\\\\rm{max}}=%s,\\\\ a=%s\\\\ F/h^2$ ' \n",
    "          %(round(a,4),round(b,4),int(c),int(p(tmax)),2*round(a,5)),fontsize=12)\n",
    "plt.xlabel('$t$ [hours]',size=15)\n",
    "plt.ylabel('$f(t)$ [Followers]',size=15)\n",
    "plt.grid()\n",
    "#plt.hlines(62000,-100,4000)\n",
    "plt.savefig('followers.png')\n",
    "#plt.xlim(3000,4500)\n",
    "#plt.ylim(60000,64000)"
   ]
  },
  {
   "cell_type": "code",
   "execution_count": 49,
   "metadata": {},
   "outputs": [],
   "source": [
    "import numbers\n",
    "import datetime"
   ]
  },
  {
   "cell_type": "code",
   "execution_count": 53,
   "metadata": {},
   "outputs": [],
   "source": [
    "pred=100000\n",
    "PREDICTION=isinstance( (pred-p).roots[-1],numbers.Real )"
   ]
  },
  {
   "cell_type": "code",
   "execution_count": 56,
   "metadata": {},
   "outputs": [],
   "source": [
    "fmax=float('inf')\n",
    "if p.coefficients[0]<0:\n",
    "    fmax=p(tmax)"
   ]
  },
  {
   "cell_type": "code",
   "execution_count": 60,
   "metadata": {},
   "outputs": [
    {
     "data": {
      "text/plain": [
       "-24897.596944544857"
      ]
     },
     "execution_count": 60,
     "metadata": {},
     "output_type": "execute_result"
    }
   ],
   "source": [
    "tmax"
   ]
  },
  {
   "cell_type": "code",
   "execution_count": 16,
   "metadata": {},
   "outputs": [
    {
     "data": {
      "text/plain": [
       "array([3.34348497, 3.444058  ])"
      ]
     },
     "execution_count": 16,
     "metadata": {},
     "output_type": "execute_result"
    }
   ],
   "source": [
    "v(df.hours.iloc[0:df.shape[0]:df.shape[0]//2])"
   ]
  },
  {
   "cell_type": "code",
   "execution_count": 7,
   "metadata": {},
   "outputs": [
    {
     "data": {
      "text/plain": [
       "array([3.3776275 , 3.3777633 , 3.37789911, ..., 3.63571179, 3.63584755,\n",
       "       3.63598333])"
      ]
     },
     "execution_count": 7,
     "metadata": {},
     "output_type": "execute_result"
    }
   ],
   "source": [
    "v(df.hours.iloc[0:df.shape[0]])"
   ]
  },
  {
   "cell_type": "markdown",
   "metadata": {},
   "source": [
    "Prediction:\n",
    "$$F(t)=\\frac{1}{2}at^2+v_0t+t_0$$"
   ]
  },
  {
   "cell_type": "code",
   "execution_count": 62,
   "metadata": {},
   "outputs": [
    {
     "name": "stdout",
     "output_type": "stream",
     "text": [
      "t0 → 2021-11-27 04:33:02.885000, t_end → 10091.757389442122\n",
      "100000 folowers → 2023-01-21 16:18:29.486992\n"
     ]
    }
   ],
   "source": [
    "if PREDICTION:\n",
    "    h=(pred-p).roots[-1]\n",
    "    t0=df.loc[0,'date_time']\n",
    "    print(f't0 → {t0}, t_end → {h}')\n",
    "    print(f'{pred} folowers → {t0+datetime.timedelta(hours=h)}')\n",
    "else:\n",
    "    t=df.loc[0,'date_time']    \n",
    "    print(f'{fmax} max followers → {t+datetime.timedelta(hours=tmax)}')"
   ]
  },
  {
   "cell_type": "markdown",
   "metadata": {
    "tags": []
   },
   "source": [
    "## Logistic"
   ]
  },
  {
   "cell_type": "markdown",
   "metadata": {},
   "source": [
    "\\begin{align}\n",
    "f(x; \\mu,s)  & = \\frac{e^{-(x-\\mu)/s}} {s\\left(1+e^{-(x-\\mu)/s}\\right)^2} \\\\[4pt]\n",
    "& =\\frac{1}{s\\left(e^{(x-\\mu)/(2s)}+e^{-(x-\\mu)/(2s)}\\right)^2} \\\\[4pt]\n",
    "& =\\frac{1}{4s} \\operatorname{sech}^2\\left(\\frac{x-\\mu}{2s}\\right).\n",
    "\\end{align}"
   ]
  },
  {
   "cell_type": "code",
   "execution_count": 78,
   "metadata": {},
   "outputs": [
    {
     "data": {
      "text/plain": [
       "array([2.93283857e+12, 4.30174009e+03, 3.42131016e+03])"
      ]
     },
     "execution_count": 78,
     "metadata": {},
     "output_type": "execute_result"
    }
   ],
   "source": [
    "from scipy import  misc\n",
    "def logistic(x,A,μ,s):\n",
    "    return A*np.exp( -(x-μ)/s  )/( s*(1 + np.exp( -(x-μ)/s  )   )  )**2\n",
    "\n",
    "derivative=np.vectorize(misc.derivative)\n",
    "\n",
    "df=pd.read_json('followers.json')\n",
    "\n",
    "df['hours']=df['date_time'].apply(lambda t: (t.timestamp()-df.loc[0,'date_time'].timestamp())/3600  )\n",
    "\n",
    "\n",
    "t=np.linspace(0,5000,1000)\n",
    "p0=[20000,100,10]\n",
    "l,le=optimize.curve_fit(logistic,df['hours'],df['followers'],p0=p0)\n",
    "A,μ,s=l\n",
    "l"
   ]
  },
  {
   "cell_type": "code",
   "execution_count": 79,
   "metadata": {},
   "outputs": [
    {
     "data": {
      "image/png": "[encoded data removed]",
      "text/plain": [
       "<Figure size 432x288 with 1 Axes>"
      ]
     },
     "metadata": {
      "needs_background": "light"
     },
     "output_type": "display_data"
    }
   ],
   "source": [
    "#df['hours']=df['date_time'].apply(lambda t: (t-df.loc[0,'date_time']).seconds/3600  )\n",
    "plt.plot(df['hours'],df['followers'],'c+')\n",
    "\n",
    "#fmax\n",
    "dlogistic=derivative(lambda t: logistic(t,A,μ,s),t)\n",
    "nt=dlogistic[dlogistic>0].shape[0]\n",
    "lfmax=logistic( t[nt],A,μ,s ) \n",
    "\n",
    "#Fit:\n",
    "plt.plot(t,logistic(t,A,μ,s),linestyle='--',color='k')\n",
    "plt.title(r'$f_{\\rm max}=%s$' %int(lfmax),fontsize=15)\n",
    "plt.xlabel('$t$ [hours]',size=15)\n",
    "plt.ylabel('$f(t)$ [Followers]',size=15)\n",
    "plt.grid()\n",
    "plt.savefig('followers.png')"
   ]
  },
  {
   "cell_type": "code",
   "execution_count": 80,
   "metadata": {},
   "outputs": [
    {
     "name": "stderr",
     "output_type": "stream",
     "text": [
      "/usr/local/lib/python3.9/dist-packages/pandas/core/arraylike.py:364: RuntimeWarning: overflow encountered in exp\n",
      "  result = getattr(ufunc, method)(*inputs, **kwargs)\n"
     ]
    },
    {
     "data": {
      "text/plain": [
       "(array([2.19682098e+12, 3.65612497e+03, 3.00886344e+03]),\n",
       " array([[1.94873469e+20, 1.63719228e+11, 1.23457036e+11],\n",
       "        [1.63719228e+11, 1.42640640e+02, 1.02932126e+02],\n",
       "        [1.23457036e+11, 1.02932126e+02, 7.83832268e+01]]))"
      ]
     },
     "execution_count": 80,
     "metadata": {},
     "output_type": "execute_result"
    }
   ],
   "source": [
    "optimize.curve_fit(logistic,df['hours'],df['followers'],p0=[100,1,1])"
   ]
  },
  {
   "cell_type": "code",
   "execution_count": 81,
   "metadata": {},
   "outputs": [
    {
     "data": {
      "text/plain": [
       "152.4441107774441"
      ]
     },
     "execution_count": 81,
     "metadata": {},
     "output_type": "execute_result"
    }
   ],
   "source": [
    "t[nt]/24"
   ]
  },
  {
   "cell_type": "code",
   "execution_count": 170,
   "metadata": {},
   "outputs": [],
   "source": [
    "import helium as hell\n",
    "import pandas as pd\n",
    "import time"
   ]
  },
  {
   "cell_type": "code",
   "execution_count": 26,
   "metadata": {},
   "outputs": [
    {
     "data": {
      "text/plain": [
       "array([42696, 42706, 42716, ..., 56979, 56980, 56983])"
      ]
     },
     "execution_count": 26,
     "metadata": {},
     "output_type": "execute_result"
    }
   ],
   "source": [
    "df['followers'].sort_values().unique()"
   ]
  },
  {
   "cell_type": "code",
   "execution_count": 28,
   "metadata": {},
   "outputs": [
    {
     "data": {
      "text/plain": [
       "'1.3.0'"
      ]
     },
     "execution_count": 28,
     "metadata": {},
     "output_type": "execute_result"
    }
   ],
   "source": [
    "pd.__version__"
   ]
  },
  {
   "cell_type": "code",
   "execution_count": null,
   "metadata": {},
   "outputs": [],
   "source": []
  }
 ],
 "metadata": {
  "kernelspec": {
   "display_name": "Python 3 (ipykernel)",
   "language": "python",
   "name": "python3"
  },
  "language_info": {
   "codemirror_mode": {
    "name": "ipython",
    "version": 3
   },
   "file_extension": ".py",
   "mimetype": "text/x-python",
   "name": "python",
   "nbconvert_exporter": "python",
   "pygments_lexer": "ipython3",
   "version": "3.9.2"
  }
 },
 "nbformat": 4,
 "nbformat_minor": 4
}
