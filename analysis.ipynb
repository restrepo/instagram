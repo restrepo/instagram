{
 "cells": [
  {
   "cell_type": "markdown",
   "metadata": {},
   "source": [
    "## Several fits"
   ]
  },
  {
   "cell_type": "markdown",
   "metadata": {
    "tags": []
   },
   "source": [
    "## General"
   ]
  },
  {
   "cell_type": "code",
   "execution_count": 14,
   "metadata": {},
   "outputs": [
    {
     "name": "stdout",
     "output_type": "stream",
     "text": [
      "Populating the interactive namespace from numpy and matplotlib\n"
     ]
    },
    {
     "name": "stderr",
     "output_type": "stream",
     "text": [
      "/usr/local/lib/python3.9/dist-packages/IPython/core/magics/pylab.py:159: UserWarning: pylab import has clobbered these variables: ['fmax']\n",
      "`%matplotlib` prevents importing * from pylab and numpy\n",
      "  warn(\"pylab import has clobbered these variables: %s\"  % clobbered +\n"
     ]
    }
   ],
   "source": [
    "import pandas as pd\n",
    "from scipy import optimize\n",
    "%pylab inline"
   ]
  },
  {
   "cell_type": "markdown",
   "metadata": {
    "tags": []
   },
   "source": [
    "## Linear"
   ]
  },
  {
   "cell_type": "code",
   "execution_count": 20,
   "metadata": {},
   "outputs": [
    {
     "data": {
      "image/png": "[encoded data removed]",
      "text/plain": [
       "<Figure size 432x288 with 1 Axes>"
      ]
     },
     "metadata": {
      "needs_background": "light"
     },
     "output_type": "display_data"
    }
   ],
   "source": [
    "def line(x,m,b):\n",
    "    return m*x+b\n",
    "\n",
    "df=pd.read_json('followers.json')\n",
    "df=df.iloc[-1500:].reset_index(drop=True)\n",
    "#df=df[-20:].reset_index(drop=True)\n",
    "\n",
    "#df['hours']=df['date_time'].apply(lambda t: (t-df.loc[0,'date_time']).seconds/3600  )\n",
    "df['hours']=df['date_time'].apply(lambda t: (t.timestamp()-df.loc[0,'date_time'].timestamp())/3600  )\n",
    "#df=df[df['hours']>850].reset_index(drop=True)\n",
    "\n",
    "plt.plot(df['hours'],df['followers'],'c+')\n",
    "\n",
    "#Fit:\n",
    "l,le=optimize.curve_fit(line,df['hours'],df['followers'],p0=[8,40000])\n",
    "m,b=l\n",
    "plt.plot(df['hours'],line(df['hours'],m,b),linestyle='--',color='k')\n",
    "plt.title('$f(t)=%s\\\\,t+%s$ → %s Followers/hour' %(round(m,1),int(b),round(m,1)),fontsize=15)\n",
    "plt.xlabel('$t$ [hours]',size=15)\n",
    "plt.ylabel('$f(t)$ [Followers]',size=15)\n",
    "plt.grid()\n",
    "plt.savefig('followers.png')"
   ]
  },
  {
   "cell_type": "code",
   "execution_count": 21,
   "metadata": {},
   "outputs": [
    {
     "data": {
      "text/html": [
       "<div>\n",
       "<style scoped>\n",
       "    .dataframe tbody tr th:only-of-type {\n",
       "        vertical-align: middle;\n",
       "    }\n",
       "\n",
       "    .dataframe tbody tr th {\n",
       "        vertical-align: top;\n",
       "    }\n",
       "\n",
       "    .dataframe thead th {\n",
       "        text-align: right;\n",
       "    }\n",
       "</style>\n",
       "<table border=\"1\" class=\"dataframe\">\n",
       "  <thead>\n",
       "    <tr style=\"text-align: right;\">\n",
       "      <th></th>\n",
       "      <th>followers</th>\n",
       "      <th>date_time</th>\n",
       "      <th>hours</th>\n",
       "      <th>Δf</th>\n",
       "    </tr>\n",
       "  </thead>\n",
       "  <tbody>\n",
       "    <tr>\n",
       "      <th>1480</th>\n",
       "      <td>76089</td>\n",
       "      <td>2022-05-30 14:02:15.987</td>\n",
       "      <td>2676.046831</td>\n",
       "      <td>13</td>\n",
       "    </tr>\n",
       "    <tr>\n",
       "      <th>1481</th>\n",
       "      <td>76102</td>\n",
       "      <td>2022-05-30 15:02:20.229</td>\n",
       "      <td>2677.048010</td>\n",
       "      <td>13</td>\n",
       "    </tr>\n",
       "    <tr>\n",
       "      <th>1482</th>\n",
       "      <td>76111</td>\n",
       "      <td>2022-05-30 16:02:25.266</td>\n",
       "      <td>2678.049409</td>\n",
       "      <td>9</td>\n",
       "    </tr>\n",
       "    <tr>\n",
       "      <th>1483</th>\n",
       "      <td>76115</td>\n",
       "      <td>2022-05-30 17:02:29.003</td>\n",
       "      <td>2679.050447</td>\n",
       "      <td>4</td>\n",
       "    </tr>\n",
       "    <tr>\n",
       "      <th>1484</th>\n",
       "      <td>76117</td>\n",
       "      <td>2022-05-30 18:02:32.960</td>\n",
       "      <td>2680.051546</td>\n",
       "      <td>2</td>\n",
       "    </tr>\n",
       "    <tr>\n",
       "      <th>1485</th>\n",
       "      <td>76125</td>\n",
       "      <td>2022-05-30 19:02:36.372</td>\n",
       "      <td>2681.052494</td>\n",
       "      <td>8</td>\n",
       "    </tr>\n",
       "    <tr>\n",
       "      <th>1486</th>\n",
       "      <td>76131</td>\n",
       "      <td>2022-05-30 20:02:40.349</td>\n",
       "      <td>2682.053599</td>\n",
       "      <td>6</td>\n",
       "    </tr>\n",
       "    <tr>\n",
       "      <th>1487</th>\n",
       "      <td>76141</td>\n",
       "      <td>2022-05-30 21:02:44.119</td>\n",
       "      <td>2683.054646</td>\n",
       "      <td>10</td>\n",
       "    </tr>\n",
       "    <tr>\n",
       "      <th>1488</th>\n",
       "      <td>76148</td>\n",
       "      <td>2022-05-30 22:02:49.270</td>\n",
       "      <td>2684.056077</td>\n",
       "      <td>7</td>\n",
       "    </tr>\n",
       "    <tr>\n",
       "      <th>1489</th>\n",
       "      <td>76159</td>\n",
       "      <td>2022-05-30 23:02:52.442</td>\n",
       "      <td>2685.056958</td>\n",
       "      <td>11</td>\n",
       "    </tr>\n",
       "    <tr>\n",
       "      <th>1490</th>\n",
       "      <td>76188</td>\n",
       "      <td>2022-05-31 00:02:57.315</td>\n",
       "      <td>2686.058311</td>\n",
       "      <td>29</td>\n",
       "    </tr>\n",
       "    <tr>\n",
       "      <th>1491</th>\n",
       "      <td>76199</td>\n",
       "      <td>2022-05-31 01:03:01.717</td>\n",
       "      <td>2687.059534</td>\n",
       "      <td>11</td>\n",
       "    </tr>\n",
       "    <tr>\n",
       "      <th>1492</th>\n",
       "      <td>76210</td>\n",
       "      <td>2022-05-31 02:03:06.096</td>\n",
       "      <td>2688.060751</td>\n",
       "      <td>11</td>\n",
       "    </tr>\n",
       "    <tr>\n",
       "      <th>1493</th>\n",
       "      <td>76217</td>\n",
       "      <td>2022-05-31 03:03:15.140</td>\n",
       "      <td>2689.063263</td>\n",
       "      <td>7</td>\n",
       "    </tr>\n",
       "    <tr>\n",
       "      <th>1494</th>\n",
       "      <td>76225</td>\n",
       "      <td>2022-05-31 04:03:18.429</td>\n",
       "      <td>2690.064176</td>\n",
       "      <td>8</td>\n",
       "    </tr>\n",
       "    <tr>\n",
       "      <th>1495</th>\n",
       "      <td>76236</td>\n",
       "      <td>2022-05-31 05:03:21.330</td>\n",
       "      <td>2691.064982</td>\n",
       "      <td>11</td>\n",
       "    </tr>\n",
       "    <tr>\n",
       "      <th>1496</th>\n",
       "      <td>76224</td>\n",
       "      <td>2022-05-31 06:03:24.767</td>\n",
       "      <td>2692.065937</td>\n",
       "      <td>-12</td>\n",
       "    </tr>\n",
       "    <tr>\n",
       "      <th>1497</th>\n",
       "      <td>76228</td>\n",
       "      <td>2022-05-31 07:03:33.278</td>\n",
       "      <td>2693.068301</td>\n",
       "      <td>4</td>\n",
       "    </tr>\n",
       "    <tr>\n",
       "      <th>1498</th>\n",
       "      <td>76299</td>\n",
       "      <td>2022-05-31 16:14:28.630</td>\n",
       "      <td>2702.250343</td>\n",
       "      <td>71</td>\n",
       "    </tr>\n",
       "    <tr>\n",
       "      <th>1499</th>\n",
       "      <td>76314</td>\n",
       "      <td>2022-05-31 17:14:31.921</td>\n",
       "      <td>2703.251257</td>\n",
       "      <td>15</td>\n",
       "    </tr>\n",
       "  </tbody>\n",
       "</table>\n",
       "</div>"
      ],
      "text/plain": [
       "      followers               date_time        hours  Δf\n",
       "1480      76089 2022-05-30 14:02:15.987  2676.046831  13\n",
       "1481      76102 2022-05-30 15:02:20.229  2677.048010  13\n",
       "1482      76111 2022-05-30 16:02:25.266  2678.049409   9\n",
       "1483      76115 2022-05-30 17:02:29.003  2679.050447   4\n",
       "1484      76117 2022-05-30 18:02:32.960  2680.051546   2\n",
       "1485      76125 2022-05-30 19:02:36.372  2681.052494   8\n",
       "1486      76131 2022-05-30 20:02:40.349  2682.053599   6\n",
       "1487      76141 2022-05-30 21:02:44.119  2683.054646  10\n",
       "1488      76148 2022-05-30 22:02:49.270  2684.056077   7\n",
       "1489      76159 2022-05-30 23:02:52.442  2685.056958  11\n",
       "1490      76188 2022-05-31 00:02:57.315  2686.058311  29\n",
       "1491      76199 2022-05-31 01:03:01.717  2687.059534  11\n",
       "1492      76210 2022-05-31 02:03:06.096  2688.060751  11\n",
       "1493      76217 2022-05-31 03:03:15.140  2689.063263   7\n",
       "1494      76225 2022-05-31 04:03:18.429  2690.064176   8\n",
       "1495      76236 2022-05-31 05:03:21.330  2691.064982  11\n",
       "1496      76224 2022-05-31 06:03:24.767  2692.065937 -12\n",
       "1497      76228 2022-05-31 07:03:33.278  2693.068301   4\n",
       "1498      76299 2022-05-31 16:14:28.630  2702.250343  71\n",
       "1499      76314 2022-05-31 17:14:31.921  2703.251257  15"
      ]
     },
     "execution_count": 21,
     "metadata": {},
     "output_type": "execute_result"
    }
   ],
   "source": [
    "df['Δf']=[0]+list(df.followers.values[1:]-df.followers.values[:-1])\n",
    "df.iloc[-20:]#[-24*1:]#['Δf'].sum()"
   ]
  },
  {
   "cell_type": "code",
   "execution_count": 4,
   "metadata": {},
   "outputs": [
    {
     "data": {
      "text/plain": [
       "-35"
      ]
     },
     "execution_count": 4,
     "metadata": {},
     "output_type": "execute_result"
    }
   ],
   "source": [
    "df.Δf.min()"
   ]
  },
  {
   "cell_type": "code",
   "execution_count": 5,
   "metadata": {},
   "outputs": [
    {
     "data": {
      "image/png": "[encoded data removed]",
      "text/plain": [
       "<Figure size 432x288 with 1 Axes>"
      ]
     },
     "metadata": {
      "needs_background": "light"
     },
     "output_type": "display_data"
    }
   ],
   "source": [
    "t=np.linspace(0,900)\n",
    "dfl=df[df['Δf']<41]\n",
    "plt.plot(dfl['hours'],dfl['Δf'],'c.')\n",
    "ll,lle=optimize.curve_fit(line,df['hours'],df['Δf'],p0=[-0.1,15])\n",
    "ml,bl=ll\n",
    "plt.plot(df['hours'],line(df['hours'],ml,bl),linestyle='--',color='k')\n",
    "#plt.plot(t,-0.01*t+10)\n",
    "plt.title('$\\Delta(t)=%s\\\\,t+%s$ → %s Followers/hour${}^2$' %(round(ml,4),round(bl,2),round(ml,4)),fontsize=15)\n",
    "plt.ylabel('$\\Delta(t)$ [followers/hour]',size=15)\n",
    "plt.xlabel('$t$ [hours]',size=15)\n",
    "plt.grid()"
   ]
  },
  {
   "cell_type": "markdown",
   "metadata": {},
   "source": [
    "Prediction\n",
    "\n",
    "$y=mx+b$ → $x=(y-b)/m$"
   ]
  },
  {
   "cell_type": "code",
   "execution_count": 17,
   "metadata": {},
   "outputs": [],
   "source": [
    "def hours(y,m,b):\n",
    "    return (y-b)/m"
   ]
  },
  {
   "cell_type": "code",
   "execution_count": 18,
   "metadata": {},
   "outputs": [
    {
     "data": {
      "text/plain": [
       "7281"
      ]
     },
     "execution_count": 18,
     "metadata": {},
     "output_type": "execute_result"
    }
   ],
   "source": [
    "y=90000\n",
    "h=int(round(hours(y,m,b),0))\n",
    "h"
   ]
  },
  {
   "cell_type": "code",
   "execution_count": 19,
   "metadata": {},
   "outputs": [],
   "source": [
    "import datetime"
   ]
  },
  {
   "cell_type": "code",
   "execution_count": 20,
   "metadata": {},
   "outputs": [
    {
     "name": "stdout",
     "output_type": "stream",
     "text": [
      "t0 → 2021-12-29 20:59:26.236000\n",
      "2022-10-29 05:59:26.236000\n"
     ]
    }
   ],
   "source": [
    "t0=df.loc[0,'date_time']\n",
    "print(f't0 → {t0}')\n",
    "print(f'{t0+datetime.timedelta(hours=h)}')"
   ]
  },
  {
   "cell_type": "code",
   "execution_count": 21,
   "metadata": {},
   "outputs": [],
   "source": [
    "df['pred']=df['hours'].apply(lambda x: int(m*x+b)) "
   ]
  },
  {
   "cell_type": "markdown",
   "metadata": {},
   "source": [
    "Errores"
   ]
  },
  {
   "cell_type": "code",
   "execution_count": 22,
   "metadata": {},
   "outputs": [],
   "source": [
    "Δm=np.sqrt(le[0,0])\n",
    "Δb=np.sqrt(le[1,1])"
   ]
  },
  {
   "cell_type": "code",
   "execution_count": 23,
   "metadata": {},
   "outputs": [
    {
     "data": {
      "text/plain": [
       "(3.907829150300555, 3.9205938376582368)"
      ]
     },
     "execution_count": 23,
     "metadata": {},
     "output_type": "execute_result"
    }
   ],
   "source": [
    "m-Δm,m+Δm"
   ]
  },
  {
   "cell_type": "code",
   "execution_count": 24,
   "metadata": {},
   "outputs": [
    {
     "data": {
      "text/plain": [
       "(61492.02430773689, 61508.57795943795)"
      ]
     },
     "execution_count": 24,
     "metadata": {},
     "output_type": "execute_result"
    }
   ],
   "source": [
    "b-Δb,b+Δb"
   ]
  },
  {
   "cell_type": "code",
   "execution_count": 25,
   "metadata": {},
   "outputs": [
    {
     "data": {
      "text/plain": [
       "2700.2087483333216"
      ]
     },
     "execution_count": 25,
     "metadata": {},
     "output_type": "execute_result"
    }
   ],
   "source": [
    "df.iloc[-1]['hours']+10*24"
   ]
  },
  {
   "cell_type": "markdown",
   "metadata": {
    "tags": []
   },
   "source": [
    "## Cuadratic"
   ]
  },
  {
   "cell_type": "code",
   "execution_count": 6,
   "metadata": {},
   "outputs": [
    {
     "data": {
      "image/png": "[encoded data removed]",
      "text/plain": [
       "<Figure size 432x288 with 1 Axes>"
      ]
     },
     "metadata": {
      "needs_background": "light"
     },
     "output_type": "display_data"
    }
   ],
   "source": [
    "import pandas as pd\n",
    "def curve(x,a,b,c):\n",
    "    return a*x**2+b*x+c\n",
    "\n",
    "df=pd.read_json('followers.json')\n",
    "df=df.iloc[-1500:].reset_index(drop=True)\n",
    "df['hours']=df['date_time'].apply(lambda t: (t.timestamp()-df.loc[0,'date_time'].timestamp())/3600  )\n",
    "\n",
    "\n",
    "l,le=optimize.curve_fit(curve,df['hours'],df['followers'],p0=[0.1,8,40000])\n",
    "\n",
    "#df['hours']=df['date_time'].apply(lambda t: (t-df.loc[0,'date_time']).seconds/3600  )\n",
    "df['hours']=df['date_time'].apply(lambda t: (t.timestamp()-df.loc[0,'date_time'].timestamp())/3600  )\n",
    "plt.plot(df['hours'],df['followers'],'c+')\n",
    "\n",
    "\n",
    "l,le=optimize.curve_fit(curve,df['hours'],df['followers'],p0=[0.1,8,40000])\n",
    "a,b,c=l\n",
    "\n",
    "\n",
    "#Fit:\n",
    "p=np.poly1d([a,b,c])\n",
    "v=p.deriv()\n",
    "tmax=v.roots[0]\n",
    "t=np.linspace(0,df.iloc[-1]['hours']+10*24)\n",
    "\n",
    "\n",
    "plt.plot(t,curve(t,a,b,c),linestyle='--',color='k')\n",
    "plt.title('$f(t)=%s\\\\,t^2+%s\\\\,t+%s \\\\to f_{\\\\rm{max}}=%s,\\\\ a=%s\\\\ F/h^2$ ' \n",
    "          %(round(a,4),round(b,4),int(c),int(p(tmax)),2*round(a,5)),fontsize=12)\n",
    "plt.xlabel('$t$ [hours]',size=15)\n",
    "plt.ylabel('$f(t)$ [Followers]',size=15)\n",
    "plt.grid()\n",
    "#plt.hlines(62000,-100,4000)\n",
    "plt.savefig('followers.png')\n",
    "#plt.xlim(3000,4500)\n",
    "#plt.ylim(60000,64000)"
   ]
  },
  {
   "cell_type": "code",
   "execution_count": 7,
   "metadata": {},
   "outputs": [],
   "source": [
    "import numbers\n",
    "import datetime"
   ]
  },
  {
   "cell_type": "code",
   "execution_count": 8,
   "metadata": {},
   "outputs": [],
   "source": [
    "pred=100000\n",
    "PREDICTION=isinstance( (pred-p).roots[-1],numbers.Real )"
   ]
  },
  {
   "cell_type": "code",
   "execution_count": 9,
   "metadata": {},
   "outputs": [],
   "source": [
    "fmax=float('inf')\n",
    "if p.coefficients[0]<0:\n",
    "    fmax=p(tmax)"
   ]
  },
  {
   "cell_type": "code",
   "execution_count": 10,
   "metadata": {},
   "outputs": [
    {
     "data": {
      "text/plain": [
       "array([3.9088821 , 3.52835084])"
      ]
     },
     "execution_count": 10,
     "metadata": {},
     "output_type": "execute_result"
    }
   ],
   "source": [
    "v(df.hours.iloc[0:df.shape[0]:df.shape[0]//2])"
   ]
  },
  {
   "cell_type": "code",
   "execution_count": 11,
   "metadata": {},
   "outputs": [
    {
     "data": {
      "text/plain": [
       "array([3.9088821 , 3.90865718, 3.90843226, ..., 3.30362457, 3.30156093,\n",
       "       3.30133598])"
      ]
     },
     "execution_count": 11,
     "metadata": {},
     "output_type": "execute_result"
    }
   ],
   "source": [
    "v(df.hours.iloc[0:df.shape[0]])"
   ]
  },
  {
   "cell_type": "markdown",
   "metadata": {},
   "source": [
    "Prediction:\n",
    "$$F(t)=\\frac{1}{2}at^2+v_0t+t_0$$"
   ]
  },
  {
   "cell_type": "code",
   "execution_count": 12,
   "metadata": {},
   "outputs": [
    {
     "name": "stdout",
     "output_type": "stream",
     "text": [
      "99248.10477681829 max followers → 2024-02-02 18:23:59.335951\n"
     ]
    }
   ],
   "source": [
    "if PREDICTION:\n",
    "    h=(pred-p).roots[-1]\n",
    "    t0=df.loc[0,'date_time']\n",
    "    print(f't0 → {t0}, t_end → {h}')\n",
    "    print(f'{pred} folowers → {t0+datetime.timedelta(hours=h)}')\n",
    "else:\n",
    "    t=df.loc[0,'date_time']    \n",
    "    print(f'{fmax} max followers → {t+datetime.timedelta(hours=tmax)}')"
   ]
  },
  {
   "cell_type": "code",
   "execution_count": 13,
   "metadata": {},
   "outputs": [
    {
     "name": "stdout",
     "output_type": "stream",
     "text": [
      "t0 → 2022-01-27 12:31:06.369000, t_end → 5042.3838733698185\n",
      "78000 folowers → 2022-08-25 14:54:08.313131\n"
     ]
    }
   ],
   "source": [
    "pred=78000\n",
    "h=(pred-p).roots[-1]\n",
    "t0=df.loc[0,'date_time']\n",
    "print(f't0 → {t0}, t_end → {h}')\n",
    "print(f'{pred} folowers → {t0+datetime.timedelta(hours=h)}')"
   ]
  },
  {
   "cell_type": "code",
   "execution_count": null,
   "metadata": {},
   "outputs": [],
   "source": [
    "ggkkj"
   ]
  },
  {
   "cell_type": "markdown",
   "metadata": {
    "tags": []
   },
   "source": [
    "## Logistic"
   ]
  },
  {
   "cell_type": "markdown",
   "metadata": {},
   "source": [
    "\\begin{align}\n",
    "f(x; \\mu,s)  & = \\frac{e^{-(x-\\mu)/s}} {s\\left(1+e^{-(x-\\mu)/s}\\right)^2} \\\\[4pt]\n",
    "& =\\frac{1}{s\\left(e^{(x-\\mu)/(2s)}+e^{-(x-\\mu)/(2s)}\\right)^2} \\\\[4pt]\n",
    "& =\\frac{1}{4s} \\operatorname{sech}^2\\left(\\frac{x-\\mu}{2s}\\right).\n",
    "\\end{align}"
   ]
  },
  {
   "cell_type": "code",
   "execution_count": 78,
   "metadata": {},
   "outputs": [
    {
     "data": {
      "text/plain": [
       "array([2.93283857e+12, 4.30174009e+03, 3.42131016e+03])"
      ]
     },
     "execution_count": 78,
     "metadata": {},
     "output_type": "execute_result"
    }
   ],
   "source": [
    "from scipy import  misc\n",
    "def logistic(x,A,μ,s):\n",
    "    return A*np.exp( -(x-μ)/s  )/( s*(1 + np.exp( -(x-μ)/s  )   )  )**2\n",
    "\n",
    "derivative=np.vectorize(misc.derivative)\n",
    "\n",
    "df=pd.read_json('followers.json')\n",
    "\n",
    "df['hours']=df['date_time'].apply(lambda t: (t.timestamp()-df.loc[0,'date_time'].timestamp())/3600  )\n",
    "\n",
    "\n",
    "t=np.linspace(0,5000,1000)\n",
    "p0=[20000,100,10]\n",
    "l,le=optimize.curve_fit(logistic,df['hours'],df['followers'],p0=p0)\n",
    "A,μ,s=l\n",
    "l"
   ]
  },
  {
   "cell_type": "code",
   "execution_count": 79,
   "metadata": {},
   "outputs": [
    {
     "data": {
      "image/png": "[encoded data removed]",
      "text/plain": [
       "<Figure size 432x288 with 1 Axes>"
      ]
     },
     "metadata": {
      "needs_background": "light"
     },
     "output_type": "display_data"
    }
   ],
   "source": [
    "#df['hours']=df['date_time'].apply(lambda t: (t-df.loc[0,'date_time']).seconds/3600  )\n",
    "plt.plot(df['hours'],df['followers'],'c+')\n",
    "\n",
    "#fmax\n",
    "dlogistic=derivative(lambda t: logistic(t,A,μ,s),t)\n",
    "nt=dlogistic[dlogistic>0].shape[0]\n",
    "lfmax=logistic( t[nt],A,μ,s ) \n",
    "\n",
    "#Fit:\n",
    "plt.plot(t,logistic(t,A,μ,s),linestyle='--',color='k')\n",
    "plt.title(r'$f_{\\rm max}=%s$' %int(lfmax),fontsize=15)\n",
    "plt.xlabel('$t$ [hours]',size=15)\n",
    "plt.ylabel('$f(t)$ [Followers]',size=15)\n",
    "plt.grid()\n",
    "plt.savefig('followers.png')"
   ]
  },
  {
   "cell_type": "code",
   "execution_count": 80,
   "metadata": {},
   "outputs": [
    {
     "name": "stderr",
     "output_type": "stream",
     "text": [
      "/usr/local/lib/python3.9/dist-packages/pandas/core/arraylike.py:364: RuntimeWarning: overflow encountered in exp\n",
      "  result = getattr(ufunc, method)(*inputs, **kwargs)\n"
     ]
    },
    {
     "data": {
      "text/plain": [
       "(array([2.19682098e+12, 3.65612497e+03, 3.00886344e+03]),\n",
       " array([[1.94873469e+20, 1.63719228e+11, 1.23457036e+11],\n",
       "        [1.63719228e+11, 1.42640640e+02, 1.02932126e+02],\n",
       "        [1.23457036e+11, 1.02932126e+02, 7.83832268e+01]]))"
      ]
     },
     "execution_count": 80,
     "metadata": {},
     "output_type": "execute_result"
    }
   ],
   "source": [
    "optimize.curve_fit(logistic,df['hours'],df['followers'],p0=[100,1,1])"
   ]
  },
  {
   "cell_type": "code",
   "execution_count": 81,
   "metadata": {},
   "outputs": [
    {
     "data": {
      "text/plain": [
       "152.4441107774441"
      ]
     },
     "execution_count": 81,
     "metadata": {},
     "output_type": "execute_result"
    }
   ],
   "source": [
    "t[nt]/24"
   ]
  },
  {
   "cell_type": "code",
   "execution_count": 170,
   "metadata": {},
   "outputs": [],
   "source": [
    "import helium as hell\n",
    "import pandas as pd\n",
    "import time"
   ]
  },
  {
   "cell_type": "code",
   "execution_count": 26,
   "metadata": {},
   "outputs": [
    {
     "data": {
      "text/plain": [
       "array([42696, 42706, 42716, ..., 56979, 56980, 56983])"
      ]
     },
     "execution_count": 26,
     "metadata": {},
     "output_type": "execute_result"
    }
   ],
   "source": [
    "df['followers'].sort_values().unique()"
   ]
  },
  {
   "cell_type": "code",
   "execution_count": 28,
   "metadata": {},
   "outputs": [
    {
     "data": {
      "text/plain": [
       "'1.3.0'"
      ]
     },
     "execution_count": 28,
     "metadata": {},
     "output_type": "execute_result"
    }
   ],
   "source": [
    "pd.__version__"
   ]
  },
  {
   "cell_type": "code",
   "execution_count": null,
   "metadata": {},
   "outputs": [],
   "source": []
  }
 ],
 "metadata": {
  "kernelspec": {
   "display_name": "Python 3 (ipykernel)",
   "language": "python",
   "name": "python3"
  },
  "language_info": {
   "codemirror_mode": {
    "name": "ipython",
    "version": 3
   },
   "file_extension": ".py",
   "mimetype": "text/x-python",
   "name": "python",
   "nbconvert_exporter": "python",
   "pygments_lexer": "ipython3",
   "version": "3.9.2"
  }
 },
 "nbformat": 4,
 "nbformat_minor": 4
}
