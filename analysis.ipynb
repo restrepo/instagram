{
 "cells": [
  {
   "cell_type": "code",
   "execution_count": 1,
   "metadata": {},
   "outputs": [
    {
     "name": "stdout",
     "output_type": "stream",
     "text": [
      "Populating the interactive namespace from numpy and matplotlib\n"
     ]
    }
   ],
   "source": [
    "import pandas as pd\n",
    "from scipy import optimize\n",
    "%pylab inline"
   ]
  },
  {
   "cell_type": "code",
   "execution_count": 2,
   "metadata": {},
   "outputs": [],
   "source": [
    "def line(x,m,b):\n",
    "    return m*x+b"
   ]
  },
  {
   "cell_type": "code",
   "execution_count": 20,
   "metadata": {},
   "outputs": [
    {
     "data": {
      "image/png": "[encoded data removed]",
      "text/plain": [
       "<Figure size 432x288 with 1 Axes>"
      ]
     },
     "metadata": {
      "needs_background": "light"
     },
     "output_type": "display_data"
    }
   ],
   "source": [
    "df=pd.read_json('followers.json')\n",
    "#df=df[-20:].reset_index(drop=True)\n",
    "\n",
    "#df['hours']=df['date_time'].apply(lambda t: (t-df.loc[0,'date_time']).seconds/3600  )\n",
    "df['hours']=df['date_time'].apply(lambda t: (t.timestamp()-df.loc[0,'date_time'].timestamp())/3600  )\n",
    "#df=df[df['hours']>850].reset_index(drop=True)\n",
    "\n",
    "plt.plot(df['hours'],df['followers'],'c+')\n",
    "\n",
    "#Fit:\n",
    "l,le=optimize.curve_fit(line,df['hours'],df['followers'],p0=[8,40000])\n",
    "m,b=l\n",
    "plt.plot(df['hours'],line(df['hours'],m,b),linestyle='--',color='k')\n",
    "plt.title('$f(t)=%s\\\\,t+%s$ → %s Followers/hour' %(round(m,1),int(b),round(m,1)),fontsize=15)\n",
    "plt.xlabel('$t$ [hours]',size=15)\n",
    "plt.ylabel('$f(t)$ [Followers]',size=15)\n",
    "plt.grid()\n",
    "plt.savefig('followers.png')"
   ]
  },
  {
   "cell_type": "code",
   "execution_count": 21,
   "metadata": {},
   "outputs": [
    {
     "data": {
      "text/html": [
       "<div>\n",
       "<style scoped>\n",
       "    .dataframe tbody tr th:only-of-type {\n",
       "        vertical-align: middle;\n",
       "    }\n",
       "\n",
       "    .dataframe tbody tr th {\n",
       "        vertical-align: top;\n",
       "    }\n",
       "\n",
       "    .dataframe thead th {\n",
       "        text-align: right;\n",
       "    }\n",
       "</style>\n",
       "<table border=\"1\" class=\"dataframe\">\n",
       "  <thead>\n",
       "    <tr style=\"text-align: right;\">\n",
       "      <th></th>\n",
       "      <th>followers</th>\n",
       "      <th>date_time</th>\n",
       "      <th>hours</th>\n",
       "      <th>Δf</th>\n",
       "    </tr>\n",
       "  </thead>\n",
       "  <tbody>\n",
       "    <tr>\n",
       "      <th>2032</th>\n",
       "      <td>58946</td>\n",
       "      <td>2021-11-25 04:33:24.886</td>\n",
       "      <td>2694.442005</td>\n",
       "      <td>31</td>\n",
       "    </tr>\n",
       "    <tr>\n",
       "      <th>2033</th>\n",
       "      <td>58947</td>\n",
       "      <td>2021-11-25 05:33:28.246</td>\n",
       "      <td>2695.442938</td>\n",
       "      <td>1</td>\n",
       "    </tr>\n",
       "    <tr>\n",
       "      <th>2034</th>\n",
       "      <td>58946</td>\n",
       "      <td>2021-11-25 06:33:31.243</td>\n",
       "      <td>2696.443771</td>\n",
       "      <td>-1</td>\n",
       "    </tr>\n",
       "    <tr>\n",
       "      <th>2035</th>\n",
       "      <td>58946</td>\n",
       "      <td>2021-11-25 07:33:34.939</td>\n",
       "      <td>2697.444797</td>\n",
       "      <td>0</td>\n",
       "    </tr>\n",
       "    <tr>\n",
       "      <th>2036</th>\n",
       "      <td>58948</td>\n",
       "      <td>2021-11-25 08:33:38.970</td>\n",
       "      <td>2698.445917</td>\n",
       "      <td>2</td>\n",
       "    </tr>\n",
       "    <tr>\n",
       "      <th>2037</th>\n",
       "      <td>58949</td>\n",
       "      <td>2021-11-25 09:33:43.459</td>\n",
       "      <td>2699.447164</td>\n",
       "      <td>1</td>\n",
       "    </tr>\n",
       "    <tr>\n",
       "      <th>2038</th>\n",
       "      <td>58950</td>\n",
       "      <td>2021-11-25 10:33:47.990</td>\n",
       "      <td>2700.448423</td>\n",
       "      <td>1</td>\n",
       "    </tr>\n",
       "    <tr>\n",
       "      <th>2039</th>\n",
       "      <td>58952</td>\n",
       "      <td>2021-11-25 11:33:52.158</td>\n",
       "      <td>2701.449581</td>\n",
       "      <td>2</td>\n",
       "    </tr>\n",
       "    <tr>\n",
       "      <th>2040</th>\n",
       "      <td>58953</td>\n",
       "      <td>2021-11-25 12:33:55.793</td>\n",
       "      <td>2702.450590</td>\n",
       "      <td>1</td>\n",
       "    </tr>\n",
       "    <tr>\n",
       "      <th>2041</th>\n",
       "      <td>58957</td>\n",
       "      <td>2021-11-25 13:34:00.080</td>\n",
       "      <td>2703.451781</td>\n",
       "      <td>4</td>\n",
       "    </tr>\n",
       "  </tbody>\n",
       "</table>\n",
       "</div>"
      ],
      "text/plain": [
       "      followers               date_time        hours  Δf\n",
       "2032      58946 2021-11-25 04:33:24.886  2694.442005  31\n",
       "2033      58947 2021-11-25 05:33:28.246  2695.442938   1\n",
       "2034      58946 2021-11-25 06:33:31.243  2696.443771  -1\n",
       "2035      58946 2021-11-25 07:33:34.939  2697.444797   0\n",
       "2036      58948 2021-11-25 08:33:38.970  2698.445917   2\n",
       "2037      58949 2021-11-25 09:33:43.459  2699.447164   1\n",
       "2038      58950 2021-11-25 10:33:47.990  2700.448423   1\n",
       "2039      58952 2021-11-25 11:33:52.158  2701.449581   2\n",
       "2040      58953 2021-11-25 12:33:55.793  2702.450590   1\n",
       "2041      58957 2021-11-25 13:34:00.080  2703.451781   4"
      ]
     },
     "execution_count": 21,
     "metadata": {},
     "output_type": "execute_result"
    }
   ],
   "source": [
    "df['Δf']=[0]+list(df.followers.values[1:]-df.followers.values[:-1])\n",
    "df.iloc[-10:]#[-24*1:]#['Δf'].sum()"
   ]
  },
  {
   "cell_type": "code",
   "execution_count": 14,
   "metadata": {},
   "outputs": [
    {
     "data": {
      "image/png": "[encoded data removed]",
      "text/plain": [
       "<Figure size 432x288 with 1 Axes>"
      ]
     },
     "metadata": {
      "needs_background": "light"
     },
     "output_type": "display_data"
    }
   ],
   "source": [
    "t=np.linspace(0,900)\n",
    "dfl=df[df['Δf']<41]\n",
    "plt.plot(dfl['hours'],dfl['Δf'],'c.')\n",
    "ll,lle=optimize.curve_fit(line,df['hours'],df['Δf'],p0=[-0.1,15])\n",
    "ml,bl=ll\n",
    "plt.plot(df['hours'],line(df['hours'],ml,bl),linestyle='--',color='k')\n",
    "#plt.plot(t,-0.01*t+10)\n",
    "plt.title('$\\Delta(t)=%s\\\\,t+%s$ → %s Followers/hour${}^2$' %(round(ml,4),round(bl,2),round(ml,4)),fontsize=15)\n",
    "plt.ylabel('$\\Delta(t)$ [followers/hour]',size=15)\n",
    "plt.xlabel('$t$ [hours]',size=15)\n",
    "plt.grid()"
   ]
  },
  {
   "cell_type": "markdown",
   "metadata": {},
   "source": [
    "Prediction\n",
    "\n",
    "$y=mx+b$ → $x=(y-b)/m$"
   ]
  },
  {
   "cell_type": "code",
   "execution_count": 15,
   "metadata": {},
   "outputs": [],
   "source": [
    "def hours(y,m,b):\n",
    "    return (y-b)/m"
   ]
  },
  {
   "cell_type": "code",
   "execution_count": 16,
   "metadata": {},
   "outputs": [
    {
     "data": {
      "text/plain": [
       "2648"
      ]
     },
     "execution_count": 16,
     "metadata": {},
     "output_type": "execute_result"
    }
   ],
   "source": [
    "y=60000\n",
    "h=int(round(hours(y,m,b),0))\n",
    "h"
   ]
  },
  {
   "cell_type": "code",
   "execution_count": 17,
   "metadata": {},
   "outputs": [],
   "source": [
    "import datetime"
   ]
  },
  {
   "cell_type": "code",
   "execution_count": 18,
   "metadata": {},
   "outputs": [
    {
     "name": "stdout",
     "output_type": "stream",
     "text": [
      "t0 → 2021-08-04 22:06:53.668000\n",
      "2021-11-23 06:06:53.668000\n"
     ]
    }
   ],
   "source": [
    "t0=df.loc[0,'date_time']\n",
    "print(f't0 → {t0}')\n",
    "print(f'{t0+datetime.timedelta(hours=h)}')"
   ]
  },
  {
   "cell_type": "code",
   "execution_count": 53,
   "metadata": {},
   "outputs": [],
   "source": [
    "df['pred']=df['hours'].apply(lambda x: int(m*x+b)) "
   ]
  },
  {
   "cell_type": "markdown",
   "metadata": {},
   "source": [
    "Errores"
   ]
  },
  {
   "cell_type": "code",
   "execution_count": 54,
   "metadata": {},
   "outputs": [],
   "source": [
    "Δm=np.sqrt(le[0,0])\n",
    "Δb=np.sqrt(le[1,1])"
   ]
  },
  {
   "cell_type": "code",
   "execution_count": 55,
   "metadata": {},
   "outputs": [
    {
     "data": {
      "text/plain": [
       "(6.359824000116107, 6.396103810690577)"
      ]
     },
     "execution_count": 55,
     "metadata": {},
     "output_type": "execute_result"
    }
   ],
   "source": [
    "m-Δm,m+Δm"
   ]
  },
  {
   "cell_type": "code",
   "execution_count": 56,
   "metadata": {},
   "outputs": [
    {
     "data": {
      "text/plain": [
       "(43449.4847277492, 43500.876105420895)"
      ]
     },
     "execution_count": 56,
     "metadata": {},
     "output_type": "execute_result"
    }
   ],
   "source": [
    "b-Δb,b+Δb"
   ]
  },
  {
   "cell_type": "code",
   "execution_count": 57,
   "metadata": {},
   "outputs": [
    {
     "data": {
      "text/plain": [
       "2752.185526944465"
      ]
     },
     "execution_count": 57,
     "metadata": {},
     "output_type": "execute_result"
    }
   ],
   "source": [
    "df.iloc[-1]['hours']+10*24"
   ]
  },
  {
   "cell_type": "code",
   "execution_count": 19,
   "metadata": {},
   "outputs": [
    {
     "data": {
      "image/png": "[encoded data removed]",
      "text/plain": [
       "<Figure size 432x288 with 1 Axes>"
      ]
     },
     "metadata": {
      "needs_background": "light"
     },
     "output_type": "display_data"
    }
   ],
   "source": [
    "def curve(x,a,b,c):\n",
    "    return a*x**2+b*x+c\n",
    "\n",
    "l,le=optimize.curve_fit(curve,df['hours'],df['followers'],p0=[0.1,8,40000])\n",
    "\n",
    "#df['hours']=df['date_time'].apply(lambda t: (t-df.loc[0,'date_time']).seconds/3600  )\n",
    "df['hours']=df['date_time'].apply(lambda t: (t.timestamp()-df.loc[0,'date_time'].timestamp())/3600  )\n",
    "plt.plot(df['hours'],df['followers'],'c+')\n",
    "\n",
    "\n",
    "l,le=optimize.curve_fit(curve,df['hours'],df['followers'],p0=[0.1,8,40000])\n",
    "a,b,c=l\n",
    "\n",
    "\n",
    "#Fit:\n",
    "p=np.poly1d([a,b,c])\n",
    "v=p.deriv()\n",
    "tmax=v.roots[0]\n",
    "t=np.linspace(0,df.iloc[-1]['hours']+10*24)\n",
    "\n",
    "\n",
    "plt.plot(t,curve(t,a,b,c),linestyle='--',color='k')\n",
    "plt.title('$f(t)=%s\\\\,t^2+%s\\\\,t+%s \\\\to f_{\\\\rm{max}}=%s,\\\\ a=%s\\\\ F/h^2$ ' \n",
    "          %(round(a,4),round(b,4),int(c),int(p(tmax)),2*round(a,5)),fontsize=12)\n",
    "plt.xlabel('$t$ [hours]',size=15)\n",
    "plt.ylabel('$f(t)$ [Followers]',size=15)\n",
    "plt.grid()\n",
    "plt.savefig('followers.png')"
   ]
  },
  {
   "cell_type": "code",
   "execution_count": 25,
   "metadata": {},
   "outputs": [
    {
     "data": {
      "text/plain": [
       "61466.11214978367"
      ]
     },
     "execution_count": 25,
     "metadata": {},
     "output_type": "execute_result"
    }
   ],
   "source": [
    "p(tmax)"
   ]
  },
  {
   "cell_type": "code",
   "execution_count": 26,
   "metadata": {},
   "outputs": [
    {
     "data": {
      "text/plain": [
       "4202.162319196189"
      ]
     },
     "execution_count": 26,
     "metadata": {},
     "output_type": "execute_result"
    }
   ],
   "source": [
    "tmax"
   ]
  },
  {
   "cell_type": "code",
   "execution_count": 27,
   "metadata": {},
   "outputs": [
    {
     "data": {
      "text/plain": [
       "175.09009663317454"
      ]
     },
     "execution_count": 27,
     "metadata": {},
     "output_type": "execute_result"
    }
   ],
   "source": [
    "days=tmax/24\n",
    "days"
   ]
  },
  {
   "cell_type": "code",
   "execution_count": 47,
   "metadata": {},
   "outputs": [],
   "source": [
    "import datetime"
   ]
  },
  {
   "cell_type": "code",
   "execution_count": 48,
   "metadata": {},
   "outputs": [
    {
     "data": {
      "text/plain": [
       "Timestamp('2022-01-26 09:41:41.422646')"
      ]
     },
     "execution_count": 48,
     "metadata": {},
     "output_type": "execute_result"
    }
   ],
   "source": [
    "t=df.loc[0,'date_time']\n",
    "t+datetime.timedelta(hours=tmax)"
   ]
  },
  {
   "cell_type": "markdown",
   "metadata": {},
   "source": [
    "Prediction:\n",
    "$$F(t)=\\frac{1}{2}at^2+v_0t+t_0$$"
   ]
  },
  {
   "cell_type": "code",
   "execution_count": 46,
   "metadata": {},
   "outputs": [
    {
     "name": "stdout",
     "output_type": "stream",
     "text": [
      "t0 → 2021-08-04 22:06:53.668000, t_end → 3043.2177114289334\n",
      "2021-12-09 17:19:57.429144\n"
     ]
    }
   ],
   "source": [
    "h=(60000-p).roots[-1]\n",
    "t0=df.loc[0,'date_time']\n",
    "print(f't0 → {t0}, t_end → {h}')\n",
    "print(f'{t0+datetime.timedelta(hours=h)}')"
   ]
  },
  {
   "cell_type": "markdown",
   "metadata": {},
   "source": [
    "\\begin{align}\n",
    "f(x; \\mu,s)  & = \\frac{e^{-(x-\\mu)/s}} {s\\left(1+e^{-(x-\\mu)/s}\\right)^2} \\\\[4pt]\n",
    "& =\\frac{1}{s\\left(e^{(x-\\mu)/(2s)}+e^{-(x-\\mu)/(2s)}\\right)^2} \\\\[4pt]\n",
    "& =\\frac{1}{4s} \\operatorname{sech}^2\\left(\\frac{x-\\mu}{2s}\\right).\n",
    "\\end{align}"
   ]
  },
  {
   "cell_type": "code",
   "execution_count": 30,
   "metadata": {},
   "outputs": [
    {
     "data": {
      "text/plain": [
       "array([1.80791186e+12, 3.26731011e+03, 2.75963009e+03])"
      ]
     },
     "execution_count": 30,
     "metadata": {},
     "output_type": "execute_result"
    }
   ],
   "source": [
    "from scipy import  misc\n",
    "def logistic(x,A,μ,s):\n",
    "    return A*np.exp( -(x-μ)/s  )/( s*(1 + np.exp( -(x-μ)/s  )   )  )**2\n",
    "\n",
    "derivative=np.vectorize(misc.derivative)\n",
    "\n",
    "t=np.linspace(0,5000,1000)\n",
    "p0=[1000,100,10]\n",
    "l,le=optimize.curve_fit(logistic,df['hours'],df['followers'],p0=p0)\n",
    "A,μ,s=l\n",
    "l"
   ]
  },
  {
   "cell_type": "code",
   "execution_count": 31,
   "metadata": {},
   "outputs": [
    {
     "data": {
      "image/png": "[encoded data removed]",
      "text/plain": [
       "<Figure size 432x288 with 1 Axes>"
      ]
     },
     "metadata": {
      "needs_background": "light"
     },
     "output_type": "display_data"
    }
   ],
   "source": [
    "#df['hours']=df['date_time'].apply(lambda t: (t-df.loc[0,'date_time']).seconds/3600  )\n",
    "df['hours']=df['date_time'].apply(lambda t: (t.timestamp()-df.loc[0,'date_time'].timestamp())/3600  )\n",
    "plt.plot(df['hours'],df['followers'],'c+')\n",
    "\n",
    "#fmax\n",
    "dlogistic=derivative(lambda t: logistic(t,A,μ,s),t)\n",
    "nt=dlogistic[dlogistic>0].shape[0]\n",
    "lfmax=logistic( t[nt],A,μ,s ) \n",
    "\n",
    "#Fit:\n",
    "plt.plot(t,logistic(t,A,μ,s),linestyle='--',color='k')\n",
    "plt.title(r'$f_{\\rm max}=%s$' %int(lfmax),fontsize=15)\n",
    "plt.xlabel('$t$ [hours]',size=15)\n",
    "plt.ylabel('$f(t)$ [Followers]',size=15)\n",
    "plt.grid()\n",
    "plt.savefig('followers.png')"
   ]
  },
  {
   "cell_type": "code",
   "execution_count": 30,
   "metadata": {},
   "outputs": [
    {
     "data": {
      "text/plain": [
       "(array([ 2.63397320e+04,  1.47277454e+02, -1.15358078e+00]),\n",
       " array([[ 1.28865329e+11,  4.18163774e+03, -3.18762620e+06],\n",
       "        [ 4.18163774e+03,  1.89696686e+02, -2.39869428e-01],\n",
       "        [-3.18762620e+06, -2.39869428e-01,  9.32309317e+01]]))"
      ]
     },
     "execution_count": 30,
     "metadata": {},
     "output_type": "execute_result"
    }
   ],
   "source": [
    "optimize.curve_fit(logistic,df['hours'],df['followers'],p0=[100,1,1])"
   ]
  },
  {
   "cell_type": "code",
   "execution_count": 129,
   "metadata": {},
   "outputs": [
    {
     "data": {
      "text/plain": [
       "63.7303970637304"
      ]
     },
     "execution_count": 129,
     "metadata": {},
     "output_type": "execute_result"
    }
   ],
   "source": [
    "t[nt]/24"
   ]
  },
  {
   "cell_type": "code",
   "execution_count": 170,
   "metadata": {},
   "outputs": [],
   "source": [
    "import helium as hell\n",
    "import pandas as pd\n",
    "import time"
   ]
  },
  {
   "cell_type": "code",
   "execution_count": 26,
   "metadata": {},
   "outputs": [
    {
     "data": {
      "text/plain": [
       "array([42696, 42706, 42716, ..., 56979, 56980, 56983])"
      ]
     },
     "execution_count": 26,
     "metadata": {},
     "output_type": "execute_result"
    }
   ],
   "source": [
    "df['followers'].sort_values().unique()"
   ]
  },
  {
   "cell_type": "code",
   "execution_count": 28,
   "metadata": {},
   "outputs": [
    {
     "data": {
      "text/plain": [
       "'1.3.0'"
      ]
     },
     "execution_count": 28,
     "metadata": {},
     "output_type": "execute_result"
    }
   ],
   "source": [
    "pd.__version__"
   ]
  },
  {
   "cell_type": "code",
   "execution_count": null,
   "metadata": {},
   "outputs": [],
   "source": []
  }
 ],
 "metadata": {
  "kernelspec": {
   "display_name": "Python 3 (ipykernel)",
   "language": "python",
   "name": "python3"
  },
  "language_info": {
   "codemirror_mode": {
    "name": "ipython",
    "version": 3
   },
   "file_extension": ".py",
   "mimetype": "text/x-python",
   "name": "python",
   "nbconvert_exporter": "python",
   "pygments_lexer": "ipython3",
   "version": "3.7.3"
  }
 },
 "nbformat": 4,
 "nbformat_minor": 4
}
