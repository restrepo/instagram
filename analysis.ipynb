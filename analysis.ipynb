{
 "cells": [
  {
   "cell_type": "markdown",
   "metadata": {},
   "source": [
    "## Several fits"
   ]
  },
  {
   "cell_type": "markdown",
   "metadata": {
    "tags": []
   },
   "source": [
    "## General"
   ]
  },
  {
   "cell_type": "code",
   "execution_count": 1,
   "metadata": {},
   "outputs": [
    {
     "name": "stdout",
     "output_type": "stream",
     "text": [
      "Populating the interactive namespace from numpy and matplotlib\n"
     ]
    }
   ],
   "source": [
    "import pandas as pd\n",
    "from scipy import optimize\n",
    "%pylab inline"
   ]
  },
  {
   "cell_type": "markdown",
   "metadata": {
    "tags": []
   },
   "source": [
    "## Linear"
   ]
  },
  {
   "cell_type": "code",
   "execution_count": 45,
   "metadata": {},
   "outputs": [
    {
     "data": {
      "image/png": "[encoded data removed]",
      "text/plain": [
       "<Figure size 432x288 with 1 Axes>"
      ]
     },
     "metadata": {
      "needs_background": "light"
     },
     "output_type": "display_data"
    }
   ],
   "source": [
    "def line(x,m,b):\n",
    "    return m*x+b\n",
    "\n",
    "df=pd.read_json('followers.json')\n",
    "df=df.iloc[-1500:].reset_index(drop=True)\n",
    "#df=df[-20:].reset_index(drop=True)\n",
    "\n",
    "#df['hours']=df['date_time'].apply(lambda t: (t-df.loc[0,'date_time']).seconds/3600  )\n",
    "df['hours']=df['date_time'].apply(lambda t: (t.timestamp()-df.loc[0,'date_time'].timestamp())/3600  )\n",
    "#df=df[df['hours']>850].reset_index(drop=True)\n",
    "\n",
    "plt.plot(df['hours'],df['followers'],'c+')\n",
    "\n",
    "#Fit:\n",
    "l,le=optimize.curve_fit(line,df['hours'],df['followers'],p0=[8,40000])\n",
    "m,b=l\n",
    "plt.plot(df['hours'],line(df['hours'],m,b),linestyle='--',color='k')\n",
    "plt.title('$f(t)=%s\\\\,t+%s$ → %s Followers/hour' %(round(m,1),int(b),round(m,1)),fontsize=15)\n",
    "plt.xlabel('$t$ [hours]',size=15)\n",
    "plt.ylabel('$f(t)$ [Followers]',size=15)\n",
    "plt.grid()\n",
    "plt.savefig('followers.png')"
   ]
  },
  {
   "cell_type": "code",
   "execution_count": 46,
   "metadata": {},
   "outputs": [
    {
     "data": {
      "text/html": [
       "<div>\n",
       "<style scoped>\n",
       "    .dataframe tbody tr th:only-of-type {\n",
       "        vertical-align: middle;\n",
       "    }\n",
       "\n",
       "    .dataframe tbody tr th {\n",
       "        vertical-align: top;\n",
       "    }\n",
       "\n",
       "    .dataframe thead th {\n",
       "        text-align: right;\n",
       "    }\n",
       "</style>\n",
       "<table border=\"1\" class=\"dataframe\">\n",
       "  <thead>\n",
       "    <tr style=\"text-align: right;\">\n",
       "      <th></th>\n",
       "      <th>followers</th>\n",
       "      <th>date_time</th>\n",
       "      <th>hours</th>\n",
       "      <th>Δf</th>\n",
       "    </tr>\n",
       "  </thead>\n",
       "  <tbody>\n",
       "    <tr>\n",
       "      <th>1480</th>\n",
       "      <td>84788</td>\n",
       "      <td>2022-06-18 14:30:35.743</td>\n",
       "      <td>2768.493019</td>\n",
       "      <td>6</td>\n",
       "    </tr>\n",
       "    <tr>\n",
       "      <th>1481</th>\n",
       "      <td>84807</td>\n",
       "      <td>2022-06-18 15:30:39.568</td>\n",
       "      <td>2769.494082</td>\n",
       "      <td>19</td>\n",
       "    </tr>\n",
       "    <tr>\n",
       "      <th>1482</th>\n",
       "      <td>84815</td>\n",
       "      <td>2022-06-18 16:30:44.147</td>\n",
       "      <td>2770.495354</td>\n",
       "      <td>8</td>\n",
       "    </tr>\n",
       "    <tr>\n",
       "      <th>1483</th>\n",
       "      <td>84820</td>\n",
       "      <td>2022-06-18 17:30:49.446</td>\n",
       "      <td>2771.496826</td>\n",
       "      <td>5</td>\n",
       "    </tr>\n",
       "    <tr>\n",
       "      <th>1484</th>\n",
       "      <td>84829</td>\n",
       "      <td>2022-06-18 18:30:53.263</td>\n",
       "      <td>2772.497886</td>\n",
       "      <td>9</td>\n",
       "    </tr>\n",
       "    <tr>\n",
       "      <th>1485</th>\n",
       "      <td>84842</td>\n",
       "      <td>2022-06-18 19:30:58.717</td>\n",
       "      <td>2773.499401</td>\n",
       "      <td>13</td>\n",
       "    </tr>\n",
       "    <tr>\n",
       "      <th>1486</th>\n",
       "      <td>84851</td>\n",
       "      <td>2022-06-18 20:31:01.505</td>\n",
       "      <td>2774.500176</td>\n",
       "      <td>9</td>\n",
       "    </tr>\n",
       "    <tr>\n",
       "      <th>1487</th>\n",
       "      <td>84866</td>\n",
       "      <td>2022-06-18 21:31:05.284</td>\n",
       "      <td>2775.501225</td>\n",
       "      <td>15</td>\n",
       "    </tr>\n",
       "    <tr>\n",
       "      <th>1488</th>\n",
       "      <td>84877</td>\n",
       "      <td>2022-06-18 22:31:09.288</td>\n",
       "      <td>2776.502338</td>\n",
       "      <td>11</td>\n",
       "    </tr>\n",
       "    <tr>\n",
       "      <th>1489</th>\n",
       "      <td>84893</td>\n",
       "      <td>2022-06-18 23:31:12.142</td>\n",
       "      <td>2777.503130</td>\n",
       "      <td>16</td>\n",
       "    </tr>\n",
       "    <tr>\n",
       "      <th>1490</th>\n",
       "      <td>84913</td>\n",
       "      <td>2022-06-19 00:31:15.439</td>\n",
       "      <td>2778.504046</td>\n",
       "      <td>20</td>\n",
       "    </tr>\n",
       "    <tr>\n",
       "      <th>1491</th>\n",
       "      <td>84928</td>\n",
       "      <td>2022-06-19 01:31:18.506</td>\n",
       "      <td>2779.504898</td>\n",
       "      <td>15</td>\n",
       "    </tr>\n",
       "    <tr>\n",
       "      <th>1492</th>\n",
       "      <td>84939</td>\n",
       "      <td>2022-06-19 02:31:21.709</td>\n",
       "      <td>2780.505788</td>\n",
       "      <td>11</td>\n",
       "    </tr>\n",
       "    <tr>\n",
       "      <th>1493</th>\n",
       "      <td>84947</td>\n",
       "      <td>2022-06-19 03:31:24.888</td>\n",
       "      <td>2781.506671</td>\n",
       "      <td>8</td>\n",
       "    </tr>\n",
       "    <tr>\n",
       "      <th>1494</th>\n",
       "      <td>84957</td>\n",
       "      <td>2022-06-19 04:31:28.343</td>\n",
       "      <td>2782.507631</td>\n",
       "      <td>10</td>\n",
       "    </tr>\n",
       "    <tr>\n",
       "      <th>1495</th>\n",
       "      <td>84969</td>\n",
       "      <td>2022-06-19 05:31:31.377</td>\n",
       "      <td>2783.508473</td>\n",
       "      <td>12</td>\n",
       "    </tr>\n",
       "    <tr>\n",
       "      <th>1496</th>\n",
       "      <td>84972</td>\n",
       "      <td>2022-06-19 06:31:34.359</td>\n",
       "      <td>2784.509302</td>\n",
       "      <td>3</td>\n",
       "    </tr>\n",
       "    <tr>\n",
       "      <th>1497</th>\n",
       "      <td>84980</td>\n",
       "      <td>2022-06-19 07:31:37.939</td>\n",
       "      <td>2785.510296</td>\n",
       "      <td>8</td>\n",
       "    </tr>\n",
       "    <tr>\n",
       "      <th>1498</th>\n",
       "      <td>84983</td>\n",
       "      <td>2022-06-19 08:31:41.130</td>\n",
       "      <td>2786.511183</td>\n",
       "      <td>3</td>\n",
       "    </tr>\n",
       "    <tr>\n",
       "      <th>1499</th>\n",
       "      <td>84985</td>\n",
       "      <td>2022-06-19 09:31:45.468</td>\n",
       "      <td>2787.512388</td>\n",
       "      <td>2</td>\n",
       "    </tr>\n",
       "  </tbody>\n",
       "</table>\n",
       "</div>"
      ],
      "text/plain": [
       "      followers               date_time        hours  Δf\n",
       "1480      84788 2022-06-18 14:30:35.743  2768.493019   6\n",
       "1481      84807 2022-06-18 15:30:39.568  2769.494082  19\n",
       "1482      84815 2022-06-18 16:30:44.147  2770.495354   8\n",
       "1483      84820 2022-06-18 17:30:49.446  2771.496826   5\n",
       "1484      84829 2022-06-18 18:30:53.263  2772.497886   9\n",
       "1485      84842 2022-06-18 19:30:58.717  2773.499401  13\n",
       "1486      84851 2022-06-18 20:31:01.505  2774.500176   9\n",
       "1487      84866 2022-06-18 21:31:05.284  2775.501225  15\n",
       "1488      84877 2022-06-18 22:31:09.288  2776.502338  11\n",
       "1489      84893 2022-06-18 23:31:12.142  2777.503130  16\n",
       "1490      84913 2022-06-19 00:31:15.439  2778.504046  20\n",
       "1491      84928 2022-06-19 01:31:18.506  2779.504898  15\n",
       "1492      84939 2022-06-19 02:31:21.709  2780.505788  11\n",
       "1493      84947 2022-06-19 03:31:24.888  2781.506671   8\n",
       "1494      84957 2022-06-19 04:31:28.343  2782.507631  10\n",
       "1495      84969 2022-06-19 05:31:31.377  2783.508473  12\n",
       "1496      84972 2022-06-19 06:31:34.359  2784.509302   3\n",
       "1497      84980 2022-06-19 07:31:37.939  2785.510296   8\n",
       "1498      84983 2022-06-19 08:31:41.130  2786.511183   3\n",
       "1499      84985 2022-06-19 09:31:45.468  2787.512388   2"
      ]
     },
     "execution_count": 46,
     "metadata": {},
     "output_type": "execute_result"
    }
   ],
   "source": [
    "df['Δf']=[0]+list(df.followers.values[1:]-df.followers.values[:-1])\n",
    "df.iloc[-20:]#[-24*1:]#['Δf'].sum()"
   ]
  },
  {
   "cell_type": "code",
   "execution_count": 47,
   "metadata": {},
   "outputs": [
    {
     "data": {
      "text/plain": [
       "-35"
      ]
     },
     "execution_count": 47,
     "metadata": {},
     "output_type": "execute_result"
    }
   ],
   "source": [
    "df.Δf.min()"
   ]
  },
  {
   "cell_type": "code",
   "execution_count": 48,
   "metadata": {},
   "outputs": [
    {
     "data": {
      "image/png": "[encoded data removed]",
      "text/plain": [
       "<Figure size 432x288 with 1 Axes>"
      ]
     },
     "metadata": {
      "needs_background": "light"
     },
     "output_type": "display_data"
    }
   ],
   "source": [
    "t=np.linspace(0,900)\n",
    "dfl=df[df['Δf']<41]\n",
    "plt.plot(dfl['hours'],dfl['Δf'],'c.')\n",
    "ll,lle=optimize.curve_fit(line,df['hours'],df['Δf'],p0=[-0.1,15])\n",
    "ml,bl=ll\n",
    "plt.plot(df['hours'],line(df['hours'],ml,bl),linestyle='--',color='k')\n",
    "#plt.plot(t,-0.01*t+10)\n",
    "plt.title('$\\Delta(t)=%s\\\\,t+%s$ → %s Followers/hour${}^2$' %(round(ml,4),round(bl,2),round(ml,4)),fontsize=15)\n",
    "plt.ylabel('$\\Delta(t)$ [followers/hour]',size=15)\n",
    "plt.xlabel('$t$ [hours]',size=15)\n",
    "plt.grid()"
   ]
  },
  {
   "cell_type": "markdown",
   "metadata": {},
   "source": [
    "Prediction\n",
    "\n",
    "$y=mx+b$ → $x=(y-b)/m$"
   ]
  },
  {
   "cell_type": "code",
   "execution_count": 17,
   "metadata": {},
   "outputs": [],
   "source": [
    "def hours(y,m,b):\n",
    "    return (y-b)/m"
   ]
  },
  {
   "cell_type": "code",
   "execution_count": 18,
   "metadata": {},
   "outputs": [
    {
     "data": {
      "text/plain": [
       "7281"
      ]
     },
     "execution_count": 18,
     "metadata": {},
     "output_type": "execute_result"
    }
   ],
   "source": [
    "y=90000\n",
    "h=int(round(hours(y,m,b),0))\n",
    "h"
   ]
  },
  {
   "cell_type": "code",
   "execution_count": 19,
   "metadata": {},
   "outputs": [],
   "source": [
    "import datetime"
   ]
  },
  {
   "cell_type": "code",
   "execution_count": 20,
   "metadata": {},
   "outputs": [
    {
     "name": "stdout",
     "output_type": "stream",
     "text": [
      "t0 → 2021-12-29 20:59:26.236000\n",
      "2022-10-29 05:59:26.236000\n"
     ]
    }
   ],
   "source": [
    "t0=df.loc[0,'date_time']\n",
    "print(f't0 → {t0}')\n",
    "print(f'{t0+datetime.timedelta(hours=h)}')"
   ]
  },
  {
   "cell_type": "code",
   "execution_count": 21,
   "metadata": {},
   "outputs": [],
   "source": [
    "df['pred']=df['hours'].apply(lambda x: int(m*x+b)) "
   ]
  },
  {
   "cell_type": "markdown",
   "metadata": {},
   "source": [
    "Errores"
   ]
  },
  {
   "cell_type": "code",
   "execution_count": 22,
   "metadata": {},
   "outputs": [],
   "source": [
    "Δm=np.sqrt(le[0,0])\n",
    "Δb=np.sqrt(le[1,1])"
   ]
  },
  {
   "cell_type": "code",
   "execution_count": 23,
   "metadata": {},
   "outputs": [
    {
     "data": {
      "text/plain": [
       "(3.907829150300555, 3.9205938376582368)"
      ]
     },
     "execution_count": 23,
     "metadata": {},
     "output_type": "execute_result"
    }
   ],
   "source": [
    "m-Δm,m+Δm"
   ]
  },
  {
   "cell_type": "code",
   "execution_count": 24,
   "metadata": {},
   "outputs": [
    {
     "data": {
      "text/plain": [
       "(61492.02430773689, 61508.57795943795)"
      ]
     },
     "execution_count": 24,
     "metadata": {},
     "output_type": "execute_result"
    }
   ],
   "source": [
    "b-Δb,b+Δb"
   ]
  },
  {
   "cell_type": "code",
   "execution_count": 25,
   "metadata": {},
   "outputs": [
    {
     "data": {
      "text/plain": [
       "2700.2087483333216"
      ]
     },
     "execution_count": 25,
     "metadata": {},
     "output_type": "execute_result"
    }
   ],
   "source": [
    "df.iloc[-1]['hours']+10*24"
   ]
  },
  {
   "cell_type": "markdown",
   "metadata": {
    "tags": []
   },
   "source": [
    "## Cuadratic"
   ]
  },
  {
   "cell_type": "code",
   "execution_count": 1,
   "metadata": {},
   "outputs": [
    {
     "name": "stdout",
     "output_type": "stream",
     "text": [
      "Populating the interactive namespace from numpy and matplotlib\n"
     ]
    }
   ],
   "source": [
    "import pandas as pd\n",
    "from scipy import optimize\n",
    "%pylab inline"
   ]
  },
  {
   "cell_type": "code",
   "execution_count": 2,
   "metadata": {},
   "outputs": [
    {
     "data": {
      "image/png": "[encoded data removed]",
      "text/plain": [
       "<Figure size 432x288 with 1 Axes>"
      ]
     },
     "metadata": {
      "needs_background": "light"
     },
     "output_type": "display_data"
    }
   ],
   "source": [
    "import pandas as pd\n",
    "def curve(x,a,b,c):\n",
    "    return a*x**2+b*x+c\n",
    "\n",
    "df=pd.read_json('followers.json')\n",
    "df=df.iloc[-500:].reset_index(drop=True)\n",
    "#df=df.iloc[-1200:].reset_index(drop=True)\n",
    "df['hours']=df['date_time'].apply(lambda t: (t.timestamp()-df.loc[0,'date_time'].timestamp())/3600  )\n",
    "\n",
    "\n",
    "l,le=optimize.curve_fit(curve,df['hours'],df['followers'],p0=[0.1,8,40000])\n",
    "\n",
    "#df['hours']=df['date_time'].apply(lambda t: (t-df.loc[0,'date_time']).seconds/3600  )\n",
    "df['hours']=df['date_time'].apply(lambda t: (t.timestamp()-df.loc[0,'date_time'].timestamp())/3600  )\n",
    "plt.plot(df['hours'],df['followers'],'c+')\n",
    "\n",
    "\n",
    "l,le=optimize.curve_fit(curve,df['hours'],df['followers'],p0=[0.1,8,40000])\n",
    "a,b,c=l\n",
    "\n",
    "\n",
    "#Fit:\n",
    "p=np.poly1d([a,b,c])\n",
    "v=p.deriv()\n",
    "tmax=v.roots[0]\n",
    "t=np.linspace(0,df.iloc[-1]['hours']+10*24)\n",
    "\n",
    "\n",
    "plt.plot(t,curve(t,a,b,c),linestyle='--',color='k')\n",
    "plt.title('$f(t)=%s\\\\,t^2+%s\\\\,t+%s \\\\to f_{\\\\rm{max}}=%s,\\\\ a=%s\\\\ F/h^2$ ' \n",
    "          %(round(a,4),round(b,4),int(c),int(p(tmax)),2*round(a,5)),fontsize=12)\n",
    "plt.xlabel('$t$ [hours]',size=15)\n",
    "plt.ylabel('$f(t)$ [Followers]',size=15)\n",
    "plt.grid()\n",
    "#plt.hlines(62000,-100,4000)\n",
    "plt.savefig('followers.png')\n",
    "#plt.xlim(3000,4500)\n",
    "#plt.ylim(60000,64000)"
   ]
  },
  {
   "cell_type": "code",
   "execution_count": 3,
   "metadata": {},
   "outputs": [],
   "source": [
    "import numbers\n",
    "import datetime"
   ]
  },
  {
   "cell_type": "code",
   "execution_count": 20,
   "metadata": {},
   "outputs": [],
   "source": [
    "pred=100000\n",
    "PREDICTION=isinstance( (pred-p).roots[-1],numbers.Real )"
   ]
  },
  {
   "cell_type": "code",
   "execution_count": 21,
   "metadata": {},
   "outputs": [],
   "source": [
    "fmax=float('inf')\n",
    "if p.coefficients[0]<0:\n",
    "    fmax=p(tmax)"
   ]
  },
  {
   "cell_type": "code",
   "execution_count": 22,
   "metadata": {},
   "outputs": [
    {
     "data": {
      "text/plain": [
       "array([0.24663536, 0.98587034])"
      ]
     },
     "execution_count": 22,
     "metadata": {},
     "output_type": "execute_result"
    }
   ],
   "source": [
    "v(df.hours.iloc[0:df.shape[0]:df.shape[0]//2])"
   ]
  },
  {
   "cell_type": "code",
   "execution_count": 23,
   "metadata": {},
   "outputs": [],
   "source": [
    "#v(df.hours.iloc[0:df.shape[0]])"
   ]
  },
  {
   "cell_type": "markdown",
   "metadata": {},
   "source": [
    "Prediction:\n",
    "$$F(t)=\\frac{1}{2}at^2+v_0t+t_0$$"
   ]
  },
  {
   "cell_type": "code",
   "execution_count": 24,
   "metadata": {},
   "outputs": [
    {
     "name": "stdout",
     "output_type": "stream",
     "text": [
      "t0 → 2022-10-28 22:18:02.176000, t_end → 4044.0317041899457\n",
      "100000 folowers → 2023-04-15 10:19:56.311084\n"
     ]
    }
   ],
   "source": [
    "if PREDICTION:\n",
    "    h=(pred-p).roots[-1]\n",
    "    t0=df.loc[0,'date_time']\n",
    "    print(f't0 → {t0}, t_end → {h}')\n",
    "    print(f'{pred} folowers → {t0+datetime.timedelta(hours=h)}')\n",
    "else:\n",
    "    t=df.loc[0,'date_time']    \n",
    "    print(f'{fmax} max followers → {t+datetime.timedelta(hours=tmax)}')"
   ]
  },
  {
   "cell_type": "code",
   "execution_count": 11,
   "metadata": {},
   "outputs": [
    {
     "name": "stdout",
     "output_type": "stream",
     "text": [
      "t0 → 2021-08-04 22:06:53.668000, t_end → 9963.272279332376\n",
      "96000 folowers → 2022-09-24 01:23:13.873597\n"
     ]
    }
   ],
   "source": [
    "pred=96000\n",
    "h=(pred-p).roots[-1]\n",
    "t0=df.loc[0,'date_time']\n",
    "print(f't0 → {t0}, t_end → {h}')\n",
    "print(f'{pred} folowers → {t0+datetime.timedelta(hours=h)}')"
   ]
  },
  {
   "cell_type": "code",
   "execution_count": null,
   "metadata": {},
   "outputs": [],
   "source": [
    "ggkkj"
   ]
  },
  {
   "cell_type": "markdown",
   "metadata": {
    "tags": []
   },
   "source": [
    "## Logistic"
   ]
  },
  {
   "cell_type": "markdown",
   "metadata": {},
   "source": [
    "\\begin{align}\n",
    "f(x; \\mu,s)  & = \\frac{e^{-(x-\\mu)/s}} {s\\left(1+e^{-(x-\\mu)/s}\\right)^2} \\\\[4pt]\n",
    "& =\\frac{1}{s\\left(e^{(x-\\mu)/(2s)}+e^{-(x-\\mu)/(2s)}\\right)^2} \\\\[4pt]\n",
    "& =\\frac{1}{4s} \\operatorname{sech}^2\\left(\\frac{x-\\mu}{2s}\\right).\n",
    "\\end{align}"
   ]
  },
  {
   "cell_type": "code",
   "execution_count": 78,
   "metadata": {},
   "outputs": [
    {
     "data": {
      "text/plain": [
       "array([2.93283857e+12, 4.30174009e+03, 3.42131016e+03])"
      ]
     },
     "execution_count": 78,
     "metadata": {},
     "output_type": "execute_result"
    }
   ],
   "source": [
    "from scipy import  misc\n",
    "def logistic(x,A,μ,s):\n",
    "    return A*np.exp( -(x-μ)/s  )/( s*(1 + np.exp( -(x-μ)/s  )   )  )**2\n",
    "\n",
    "derivative=np.vectorize(misc.derivative)\n",
    "\n",
    "df=pd.read_json('followers.json')\n",
    "\n",
    "df['hours']=df['date_time'].apply(lambda t: (t.timestamp()-df.loc[0,'date_time'].timestamp())/3600  )\n",
    "\n",
    "\n",
    "t=np.linspace(0,5000,1000)\n",
    "p0=[20000,100,10]\n",
    "l,le=optimize.curve_fit(logistic,df['hours'],df['followers'],p0=p0)\n",
    "A,μ,s=l\n",
    "l"
   ]
  },
  {
   "cell_type": "code",
   "execution_count": 79,
   "metadata": {},
   "outputs": [
    {
     "data": {
      "image/png": "[encoded data removed]",
      "text/plain": [
       "<Figure size 432x288 with 1 Axes>"
      ]
     },
     "metadata": {
      "needs_background": "light"
     },
     "output_type": "display_data"
    }
   ],
   "source": [
    "#df['hours']=df['date_time'].apply(lambda t: (t-df.loc[0,'date_time']).seconds/3600  )\n",
    "plt.plot(df['hours'],df['followers'],'c+')\n",
    "\n",
    "#fmax\n",
    "dlogistic=derivative(lambda t: logistic(t,A,μ,s),t)\n",
    "nt=dlogistic[dlogistic>0].shape[0]\n",
    "lfmax=logistic( t[nt],A,μ,s ) \n",
    "\n",
    "#Fit:\n",
    "plt.plot(t,logistic(t,A,μ,s),linestyle='--',color='k')\n",
    "plt.title(r'$f_{\\rm max}=%s$' %int(lfmax),fontsize=15)\n",
    "plt.xlabel('$t$ [hours]',size=15)\n",
    "plt.ylabel('$f(t)$ [Followers]',size=15)\n",
    "plt.grid()\n",
    "plt.savefig('followers.png')"
   ]
  },
  {
   "cell_type": "code",
   "execution_count": 80,
   "metadata": {},
   "outputs": [
    {
     "name": "stderr",
     "output_type": "stream",
     "text": [
      "/usr/local/lib/python3.9/dist-packages/pandas/core/arraylike.py:364: RuntimeWarning: overflow encountered in exp\n",
      "  result = getattr(ufunc, method)(*inputs, **kwargs)\n"
     ]
    },
    {
     "data": {
      "text/plain": [
       "(array([2.19682098e+12, 3.65612497e+03, 3.00886344e+03]),\n",
       " array([[1.94873469e+20, 1.63719228e+11, 1.23457036e+11],\n",
       "        [1.63719228e+11, 1.42640640e+02, 1.02932126e+02],\n",
       "        [1.23457036e+11, 1.02932126e+02, 7.83832268e+01]]))"
      ]
     },
     "execution_count": 80,
     "metadata": {},
     "output_type": "execute_result"
    }
   ],
   "source": [
    "optimize.curve_fit(logistic,df['hours'],df['followers'],p0=[100,1,1])"
   ]
  },
  {
   "cell_type": "code",
   "execution_count": 81,
   "metadata": {},
   "outputs": [
    {
     "data": {
      "text/plain": [
       "152.4441107774441"
      ]
     },
     "execution_count": 81,
     "metadata": {},
     "output_type": "execute_result"
    }
   ],
   "source": [
    "t[nt]/24"
   ]
  },
  {
   "cell_type": "code",
   "execution_count": 170,
   "metadata": {},
   "outputs": [],
   "source": [
    "import helium as hell\n",
    "import pandas as pd\n",
    "import time"
   ]
  },
  {
   "cell_type": "code",
   "execution_count": 26,
   "metadata": {},
   "outputs": [
    {
     "data": {
      "text/plain": [
       "array([42696, 42706, 42716, ..., 56979, 56980, 56983])"
      ]
     },
     "execution_count": 26,
     "metadata": {},
     "output_type": "execute_result"
    }
   ],
   "source": [
    "df['followers'].sort_values().unique()"
   ]
  },
  {
   "cell_type": "code",
   "execution_count": 28,
   "metadata": {},
   "outputs": [
    {
     "data": {
      "text/plain": [
       "'1.3.0'"
      ]
     },
     "execution_count": 28,
     "metadata": {},
     "output_type": "execute_result"
    }
   ],
   "source": [
    "pd.__version__"
   ]
  },
  {
   "cell_type": "code",
   "execution_count": null,
   "metadata": {},
   "outputs": [],
   "source": [
    "import itertools\n",
    "import math as mh\n",
    "\n",
    "def remove_double_intersection_pairs(msvp,l):\n",
    "    for p in msvp.copy():\n",
    "        tmp=msvp.copy()\n",
    "        tmp.remove(p)\n",
    "        fltmp=set([x for sublist in tmp for x in sublist]) \n",
    "        if l.count(p[0])==1 and l.count(p[1])==1 and set(p).issubset(fltmp):\n",
    "            msvp=tmp.copy()\n",
    "    return msvp\n",
    "assert len(remove_double_intersection_pairs([(-10, 11), (-12, 13), (11, -12)],\n",
    "                                             [-10, 11, -12, 13]))==2\n",
    "assert len(remove_double_intersection_pairs([(4,4),(4,-12)],[4,-12]))==1\n",
    "\n",
    "def get_real_massless(l,msvp):\n",
    "    lp=l.copy()\n",
    "    for x,y in msvp:\n",
    "        #print(lp,msvp,x,y)\n",
    "        if lp and x in lp and y in lp:\n",
    "            minxy=min(lp.count(x),lp.count(y))\n",
    "            if x!=y:\n",
    "                [(lp.remove(x),lp.remove(y)) for ii in range(minxy)]\n",
    "            else:\n",
    "                [ lp.remove(x) for ii in range(lp.count(x)) ] # abs(2*x)==s\n",
    "        else: # not lp\n",
    "            break\n",
    "    return lp\n",
    "\n",
    "def get_hidden_sector(l):\n",
    "    '''\n",
    "    Extract massive pairs without massles fermions from l\n",
    "        [1, 3, 4, 6, -7, -8, -13, 14] → [[3,4],[6,-13],[1,6],[-7,14],[1,-8]]\n",
    "        #Remove [1,6] because is already in the pairs list\n",
    "        [1, 3, 4, 6, -7, -8, -13, 14] → [[3,4],[6,-13],[-7,14],[1,-8]]\n",
    "        [1, 6, -7, -8, -13, 14] → [[6,-13],[-7,14],[1,-8]]\n",
    "        [1, -7, -8, 14] → [[-7,14],[1,-8]]\n",
    "        [1, -8] → [[1,-8]]\n",
    "        [] → []    \n",
    "    '''\n",
    "    sltns=[]\n",
    "    ps = list(set(itertools.combinations_with_replacement(l,2)))\n",
    "    Ss = set(abs(sum(x)) for x in ps)\n",
    "    for s in Ss:\n",
    "        msv = [p for p in ps if abs(sum(p))==s]\n",
    "        lmsv=[x for sublist in msv for x in sublist]\n",
    "        massives=set(lmsv)        \n",
    "        massless=set(l).difference(massives)\n",
    "        if not massless:\n",
    "            # ========= Quality check =======================\n",
    "            # Check that all the elements of l can be removed\n",
    "            for INTERSECTIONS in [False,True]:\n",
    "                msvp=msv.copy()\n",
    "                lp=l.copy()\n",
    "                if INTERSECTIONS:\n",
    "                    msvp = remove_double_intersection_pairs(msvp,l)\n",
    "                for msvp in itertools.permutations(msvp.copy()):\n",
    "                    msvp=list(msvp)\n",
    "                    lp=get_real_massless(l,msvp)\n",
    "                    if not lp:\n",
    "                        break #found real massless\n",
    "                if not lp: # double break for INTERSECTIONS\n",
    "                    break # found real massless\n",
    "                    \n",
    "            if lp:\n",
    "                continue # Not a hidden sector\n",
    "            # =================================\n",
    "            sltn={}\n",
    "            sltn['S']=s\n",
    "            #Save storage\n",
    "            sltn['ψ']=msv\n",
    "            sltns.append(sltn)\n",
    "    return sltns\n",
    "\n",
    "assert get_hidden_sector([1,2,-3,4,5])[0].get('S')==6\n",
    "assert get_hidden_sector([1,2,-3,-3,4,5])[0].get('S')==6\n",
    "assert get_hidden_sector([1,1,2,-3,-3,4,5,5])[0].get('S')==6\n",
    "#aψ1ψ1+bψ1ψ2+cψ1,ψ3 → https://www.wolframalpha.com/input?i=Rank%20{{a,b,c},{b,0,0},{c,0,0}}\n",
    "assert get_hidden_sector([1,2,-3,4,5,9,9])==[]\n",
    "get_hidden_sector([1,1,2,-3,4,5])\n",
    "#aψ1ψ2+bψ1ψ3 → https://www.wolframalpha.com/input?i=rank+{{0,a,b},{a,0,0},{b,0,0}}\n",
    "assert get_hidden_sector([1,1,2,-3,4,5])==[]\n",
    "assert get_hidden_sector([1,1,2,-3,-3,4,5])==[]\n",
    "assert get_hidden_sector([1,2,-3,4,5,8])==[]\n",
    "assert get_hidden_sector([1,2,-3,4,5,8,8])==[]\n",
    "assert get_hidden_sector([])==[]\n",
    "assert get_hidden_sector([1, 1, 1, 1, 1, -2, -2, -2, -2, 3])==[]\n",
    "assert get_hidden_sector([1, 2, 2, 2, -3, -5, -6, 7])[0].get('S')==4\n",
    "assert get_hidden_sector( [1, 2, 2, 4, -5, -5, -7, 8] )[0].get('S')==3\n",
    "assert get_hidden_sector([2, -3, -4, 5, -6, 7, 7, -8])[0].get('S')==1 # Ana test\n",
    "assert get_hidden_sector([3, 5, -8, 9, -10, -14, 15])==[] # Dirac triplet [-10,5,15] (s=5)\n",
    "assert get_hidden_sector([3, 5, -8, 9, -10, -14, 15, 20,-30, 35])==[]\n",
    "assert get_hidden_sector([1, 3, 3, 3, -5, -7, -7, 9])[0].get('S')==4 #order of pairs matters\n",
    "assert get_hidden_sector([7, -8, -10, 11, -12, 13, 14, -15])[0].get('S')==1 #double intersection pair\n",
    "assert get_hidden_sector([4,-12])[0].get('S')==8"
   ]
  }
 ],
 "metadata": {
  "kernelspec": {
   "display_name": "Python 3.9.2 64-bit",
   "language": "python",
   "name": "python3"
  },
  "language_info": {
   "codemirror_mode": {
    "name": "ipython",
    "version": 3
   },
   "file_extension": ".py",
   "mimetype": "text/x-python",
   "name": "python",
   "nbconvert_exporter": "python",
   "pygments_lexer": "ipython3",
   "version": "3.9.2"
  },
  "vscode": {
   "interpreter": {
    "hash": "31f2aee4e71d21fbe5cf8b01ff0e069b9275f58929596ceb00d14d90e3e16cd6"
   }
  }
 },
 "nbformat": 4,
 "nbformat_minor": 4
}
