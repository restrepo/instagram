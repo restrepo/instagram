{
 "cells": [
  {
   "cell_type": "code",
   "execution_count": 1,
   "metadata": {},
   "outputs": [],
   "source": [
    "import helium as hell\n",
    "import pandas as pd\n",
    "import time\n",
    "import getpass"
   ]
  },
  {
   "cell_type": "code",
   "execution_count": 2,
   "metadata": {},
   "outputs": [],
   "source": [
    "browser=hell.start_firefox(headless=True)"
   ]
  },
  {
   "cell_type": "code",
   "execution_count": 3,
   "metadata": {},
   "outputs": [],
   "source": [
    "h=browser.get('https://www.instagram.com/paulacano24/')"
   ]
  },
  {
   "cell_type": "code",
   "execution_count": 4,
   "metadata": {},
   "outputs": [],
   "source": [
    "RESET=False\n",
    "if RESET:\n",
    "    df=pd.DataFrame()\n",
    "else:\n",
    "    df=pd.read_json('followers.json')"
   ]
  },
  {
   "cell_type": "code",
   "execution_count": 5,
   "metadata": {},
   "outputs": [],
   "source": []
  },
  {
   "cell_type": "code",
   "execution_count": 6,
   "metadata": {},
   "outputs": [
    {
     "name": "stdin",
     "output_type": "stream",
     "text": [
      "user rescolo71\n",
      "password ···········\n"
     ]
    }
   ],
   "source": [
    "u=input('user')\n",
    "p=getpass.getpass('password')"
   ]
  },
  {
   "cell_type": "code",
   "execution_count": 7,
   "metadata": {},
   "outputs": [],
   "source": [
    "hell.click('Log In')\n",
    "hell.write(u,into='Phone number, username, or email')\n",
    "hell.write(p,into='Password')\n",
    "\n",
    "hell.click('Log In')\n",
    "\n",
    "try:\n",
    "    hell.click('Save Info')\n",
    "except:\n",
    "    pass\n",
    "h=browser.get('https://www.instagram.com/paulacano24/')"
   ]
  },
  {
   "cell_type": "code",
   "execution_count": 8,
   "metadata": {},
   "outputs": [
    {
     "data": {
      "text/plain": [
       "True"
      ]
     },
     "execution_count": 8,
     "metadata": {},
     "output_type": "execute_result"
    }
   ],
   "source": [
    "browser.get_screenshot_as_file('kk.png')"
   ]
  },
  {
   "cell_type": "code",
   "execution_count": null,
   "metadata": {},
   "outputs": [
    {
     "name": "stdout",
     "output_type": "stream",
     "text": [
      "{'followers': 65527, 'date_time': Timestamp('2022-02-11 15:02:26.097723')}\n",
      "{'followers': 65534, 'date_time': Timestamp('2022-02-11 16:02:29.705113')}\n",
      "{'followers': 65536, 'date_time': Timestamp('2022-02-11 17:02:33.118085')}\n",
      "{'followers': 65540, 'date_time': Timestamp('2022-02-11 18:02:36.857979')}\n",
      "{'followers': 65545, 'date_time': Timestamp('2022-02-11 19:02:39.416911')}\n",
      "{'followers': 65548, 'date_time': Timestamp('2022-02-11 20:02:55.214815')}\n",
      "{'followers': 65553, 'date_time': Timestamp('2022-02-11 21:02:59.044699')}\n",
      "{'followers': 65555, 'date_time': Timestamp('2022-02-11 22:03:02.482788')}\n",
      "{'followers': 65550, 'date_time': Timestamp('2022-02-11 23:03:05.879668')}\n",
      "{'followers': 65556, 'date_time': Timestamp('2022-02-12 00:03:09.201765')}\n",
      "{'followers': 65572, 'date_time': Timestamp('2022-02-12 03:54:57.521159')}\n",
      "{'followers': 65566, 'date_time': Timestamp('2022-02-12 04:55:00.522294')}\n",
      "{'followers': 65567, 'date_time': Timestamp('2022-02-12 05:55:04.626039')}\n",
      "{'followers': 65570, 'date_time': Timestamp('2022-02-12 06:55:07.720745')}\n",
      "{'followers': 65570, 'date_time': Timestamp('2022-02-12 07:55:11.377874')}\n",
      "{'followers': 65569, 'date_time': Timestamp('2022-02-12 08:55:15.276729')}\n",
      "{'followers': 65571, 'date_time': Timestamp('2022-02-12 09:55:19.429477')}\n",
      "{'followers': 65576, 'date_time': Timestamp('2022-02-12 10:55:22.292366')}\n",
      "{'followers': 65575, 'date_time': Timestamp('2022-02-12 11:55:25.543657')}\n",
      "{'followers': 65580, 'date_time': Timestamp('2022-02-12 12:55:29.307524')}\n",
      "{'followers': 65579, 'date_time': Timestamp('2022-02-12 13:55:33.087011')}\n",
      "{'followers': 65583, 'date_time': Timestamp('2022-02-12 14:55:38.226452')}\n",
      "{'followers': 65588, 'date_time': Timestamp('2022-02-12 15:55:41.603510')}\n",
      "{'followers': 65589, 'date_time': Timestamp('2022-02-12 16:55:45.169870')}\n",
      "{'followers': 65589, 'date_time': Timestamp('2022-02-12 17:55:49.976741')}\n",
      "{'followers': 65593, 'date_time': Timestamp('2022-02-12 18:55:53.438305')}\n",
      "{'followers': 65598, 'date_time': Timestamp('2022-02-12 19:55:56.687177')}\n",
      "{'followers': 65597, 'date_time': Timestamp('2022-02-12 20:55:59.134313')}\n",
      "{'followers': 65604, 'date_time': Timestamp('2022-02-12 21:56:02.637515')}\n",
      "{'followers': 65620, 'date_time': Timestamp('2022-02-12 22:56:05.692374')}\n",
      "{'followers': 65628, 'date_time': Timestamp('2022-02-12 23:56:08.430250')}\n",
      "{'followers': 65636, 'date_time': Timestamp('2022-02-13 00:56:12.423420')}\n",
      "{'followers': 65651, 'date_time': Timestamp('2022-02-13 01:56:15.485315')}\n",
      "{'followers': 65664, 'date_time': Timestamp('2022-02-13 02:56:19.206325')}\n",
      "{'followers': 65670, 'date_time': Timestamp('2022-02-13 03:56:21.906058')}\n",
      "{'followers': 65669, 'date_time': Timestamp('2022-02-13 04:56:25.954075')}\n",
      "{'followers': 65671, 'date_time': Timestamp('2022-02-13 05:56:30.047875')}\n",
      "{'followers': 65671, 'date_time': Timestamp('2022-02-13 06:56:33.023369')}\n",
      "{'followers': 65670, 'date_time': Timestamp('2022-02-13 07:56:36.131410')}\n",
      "{'followers': 65673, 'date_time': Timestamp('2022-02-13 08:56:38.832206')}\n",
      "{'followers': 65671, 'date_time': Timestamp('2022-02-13 09:56:42.913199')}\n",
      "{'followers': 65670, 'date_time': Timestamp('2022-02-13 10:56:45.608519')}\n",
      "{'followers': 65672, 'date_time': Timestamp('2022-02-13 11:56:50.472884')}\n",
      "{'followers': 65675, 'date_time': Timestamp('2022-02-13 12:56:54.542941')}\n",
      "{'followers': 65682, 'date_time': Timestamp('2022-02-13 14:57:11.205035')}\n",
      "{'followers': 65686, 'date_time': Timestamp('2022-02-13 15:57:13.997945')}\n",
      "{'followers': 65691, 'date_time': Timestamp('2022-02-13 16:57:17.612059')}\n",
      "{'followers': 65692, 'date_time': Timestamp('2022-02-13 17:57:21.792452')}\n",
      "{'followers': 65695, 'date_time': Timestamp('2022-02-13 18:57:36.931425')}\n",
      "{'followers': 65703, 'date_time': Timestamp('2022-02-13 19:57:40.614823')}\n",
      "{'followers': 65706, 'date_time': Timestamp('2022-02-13 20:57:43.830730')}\n",
      "{'followers': 65711, 'date_time': Timestamp('2022-02-13 21:57:46.920928')}\n",
      "{'followers': 65718, 'date_time': Timestamp('2022-02-13 22:57:49.443308')}\n",
      "{'followers': 65718, 'date_time': Timestamp('2022-02-13 23:57:53.359376')}\n",
      "{'followers': 65719, 'date_time': Timestamp('2022-02-14 00:57:56.892885')}\n",
      "{'followers': 65727, 'date_time': Timestamp('2022-02-14 01:57:59.528698')}\n",
      "{'followers': 65732, 'date_time': Timestamp('2022-02-14 02:58:02.259809')}\n",
      "{'followers': 65734, 'date_time': Timestamp('2022-02-14 03:58:05.576869')}\n",
      "{'followers': 65739, 'date_time': Timestamp('2022-02-14 04:58:09.317535')}\n",
      "{'followers': 65740, 'date_time': Timestamp('2022-02-14 05:58:12.277870')}\n",
      "{'followers': 65740, 'date_time': Timestamp('2022-02-14 06:58:15.120349')}\n",
      "{'followers': 65740, 'date_time': Timestamp('2022-02-14 07:58:17.861251')}\n",
      "{'followers': 65742, 'date_time': Timestamp('2022-02-14 08:58:22.001138')}\n",
      "{'followers': 65743, 'date_time': Timestamp('2022-02-14 09:58:25.477047')}\n",
      "{'followers': 65747, 'date_time': Timestamp('2022-02-14 10:58:28.171326')}\n",
      "{'followers': 65747, 'date_time': Timestamp('2022-02-14 11:58:30.852000')}\n",
      "{'followers': 65755, 'date_time': Timestamp('2022-02-14 12:58:34.036122')}\n"
     ]
    }
   ],
   "source": [
    "while True:\n",
    "    try:\n",
    "        browser.refresh()\n",
    "    except:\n",
    "        time.sleep(3600)\n",
    "        continue\n",
    "    try:\n",
    "        ff=browser.find_elements_by_class_name('g47SY ')\n",
    "        if len(ff)>0:\n",
    "            f=ff[1].get_attribute('title')\n",
    "            f=int(f.replace(',',''))\n",
    "        else:\n",
    "            f=''\n",
    "    except:\n",
    "        hell.write(u,into='Phone number, username, or email')\n",
    "        hell.write(p,into='Password')\n",
    "        hell.click('Log In')\n",
    "        try:\n",
    "            hell.click('Save Info')\n",
    "        except:\n",
    "            pass\n",
    "        h=browser.get('https://www.instagram.com/paulacano24/')\n",
    "        try:\n",
    "            ff=browser.find_elements_by_class_name('g47SY ')\n",
    "            if len(ff)>0:\n",
    "                f=ff[1].get_attribute('title')\n",
    "                f=int(f.replace(',',''))\n",
    "            else:\n",
    "                f=''\n",
    "        except:\n",
    "            f=''\n",
    "\n",
    "\n",
    "    if f:\n",
    "        #https://www.datasciencemadesimple.com/populate-current-datetime-in-pandas-python-2/\n",
    "        d={'followers':f ,'date_time': pd.to_datetime('now')}\n",
    "        print(d)\n",
    "        df=df.append(d,ignore_index=True)\n",
    "        df['followers']=df['followers'].astype(int)\n",
    "        df.to_json('followers.json',orient='records')\n",
    "    time.sleep(3600)"
   ]
  },
  {
   "cell_type": "code",
   "execution_count": null,
   "metadata": {},
   "outputs": [],
   "source": [
    "pd.read_json('followers.json')"
   ]
  },
  {
   "cell_type": "code",
   "execution_count": null,
   "metadata": {},
   "outputs": [],
   "source": []
  },
  {
   "cell_type": "code",
   "execution_count": null,
   "metadata": {},
   "outputs": [],
   "source": []
  }
 ],
 "metadata": {
  "kernelspec": {
   "display_name": "Python 3 (ipykernel)",
   "language": "python",
   "name": "python3"
  },
  "language_info": {
   "codemirror_mode": {
    "name": "ipython",
    "version": 3
   },
   "file_extension": ".py",
   "mimetype": "text/x-python",
   "name": "python",
   "nbconvert_exporter": "python",
   "pygments_lexer": "ipython3",
   "version": "3.9.2"
  }
 },
 "nbformat": 4,
 "nbformat_minor": 4
}
