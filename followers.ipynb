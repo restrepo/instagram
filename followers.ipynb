{
 "cells": [
  {
   "cell_type": "code",
   "execution_count": 1,
   "metadata": {},
   "outputs": [],
   "source": [
    "import helium as hell\n",
    "import pandas as pd\n",
    "import time\n",
    "import getpass"
   ]
  },
  {
   "cell_type": "code",
   "execution_count": 2,
   "metadata": {},
   "outputs": [],
   "source": [
    "browser=hell.start_firefox(headless=True)"
   ]
  },
  {
   "cell_type": "code",
   "execution_count": 3,
   "metadata": {},
   "outputs": [],
   "source": [
    "h=browser.get('https://www.instagram.com/paulacano24/')"
   ]
  },
  {
   "cell_type": "code",
   "execution_count": 4,
   "metadata": {},
   "outputs": [],
   "source": [
    "RESET=False\n",
    "if RESET:\n",
    "    df=pd.DataFrame()\n",
    "else:\n",
    "    df=pd.read_json('followers.json')"
   ]
  },
  {
   "cell_type": "code",
   "execution_count": 5,
   "metadata": {},
   "outputs": [],
   "source": [
    "#!Opoqdh1023"
   ]
  },
  {
   "cell_type": "code",
   "execution_count": 6,
   "metadata": {},
   "outputs": [
    {
     "name": "stdout",
     "output_type": "stream",
     "text": [
      "user a\n",
      "password ·\n"
     ]
    }
   ],
   "source": [
    "u=input('user')\n",
    "p=getpass.getpass('password')"
   ]
  },
  {
   "cell_type": "code",
   "execution_count": 5,
   "metadata": {},
   "outputs": [],
   "source": []
  },
  {
   "cell_type": "code",
   "execution_count": 6,
   "metadata": {},
   "outputs": [],
   "source": [
    "hell.click('Log In')\n",
    "hell.write(u,into='Phone number, username, or email')\n",
    "hell.write(p,into='Password')\n",
    "\n",
    "hell.click('Log In')\n",
    "\n",
    "try:\n",
    "    hell.click('Save Info')\n",
    "except:\n",
    "    pass\n",
    "h=browser.get('https://www.instagram.com/paulacano24/')"
   ]
  },
  {
   "cell_type": "code",
   "execution_count": 7,
   "metadata": {},
   "outputs": [
    {
     "name": "stdout",
     "output_type": "stream",
     "text": [
      "{'followers': 99620, 'date_time': Timestamp('2023-03-13 00:56:00.545327')}\n"
     ]
    }
   ],
   "source": [
    "import warnings\n",
    "warnings.filterwarnings(\"ignore\")\n",
    "class_name='_ac2a'\n",
    "while True:\n",
    "    try:\n",
    "        browser.refresh()\n",
    "        hell.wait_until(lambda: hell.Text(\"followers\").exists())                \n",
    "    except:\n",
    "        time.sleep(3600)\n",
    "        continue\n",
    "    try:\n",
    "        ff=browser.find_elements_by_class_name(f'{class_name}')\n",
    "        if len(ff)>0:\n",
    "            f=ff[1].get_attribute('title')\n",
    "            f=int(f.replace(',',''))\n",
    "        else:\n",
    "            f=''\n",
    "    except:\n",
    "        hell.write(u,into='Phone number, username, or email')\n",
    "        hell.write(p,into='Password')\n",
    "        hell.click('Log In')\n",
    "        try:\n",
    "            hell.click('Save Info')\n",
    "        except:\n",
    "            pass\n",
    "        h=browser.get('https://www.instagram.com/paulacano24/')\n",
    "        try:\n",
    "            ff=browser.find_elements_by_class_name('g47SY ')\n",
    "            if len(ff)>0:\n",
    "                f=ff[1].get_attribute('title')\n",
    "                f=int(f.replace(',',''))\n",
    "            else:\n",
    "                f=''\n",
    "        except:\n",
    "            f=''\n",
    "\n",
    "\n",
    "    if f:\n",
    "        #https://www.datasciencemadesimple.com/populate-current-datetime-in-pandas-python-2/\n",
    "        d={'followers':f ,'date_time': pd.to_datetime('now')}\n",
    "        print(d)\n",
    "        df=df.append(d,ignore_index=True)\n",
    "        df['followers']=df['followers'].astype(int)\n",
    "        df.to_json('followers.json',orient='records')\n",
    "    time.sleep(3600)"
   ]
  },
  {
   "cell_type": "code",
   "execution_count": null,
   "metadata": {},
   "outputs": [],
   "source": []
  }
 ],
 "metadata": {
  "kernelspec": {
   "display_name": "Python 3.9.2 64-bit",
   "language": "python",
   "name": "python3"
  },
  "language_info": {
   "codemirror_mode": {
    "name": "ipython",
    "version": 3
   },
   "file_extension": ".py",
   "mimetype": "text/x-python",
   "name": "python",
   "nbconvert_exporter": "python",
   "pygments_lexer": "ipython3",
   "version": "3.9.2"
  },
  "vscode": {
   "interpreter": {
    "hash": "e7370f93d1d0cde622a1f8e1c04877d8463912d04d973331ad4851f04de6915a"
   }
  }
 },
 "nbformat": 4,
 "nbformat_minor": 4
}
