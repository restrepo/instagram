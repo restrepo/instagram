{
 "cells": [
  {
   "cell_type": "code",
   "execution_count": 1,
   "metadata": {},
   "outputs": [],
   "source": [
    "import helium as hell\n",
    "import pandas as pd\n",
    "import time\n",
    "import getpass"
   ]
  },
  {
   "cell_type": "code",
   "execution_count": 2,
   "metadata": {},
   "outputs": [],
   "source": [
    "browser=hell.start_firefox(headless=True)"
   ]
  },
  {
   "cell_type": "code",
   "execution_count": 3,
   "metadata": {},
   "outputs": [],
   "source": [
    "h=browser.get('https://www.instagram.com/paulacano24/')"
   ]
  },
  {
   "cell_type": "code",
   "execution_count": 4,
   "metadata": {},
   "outputs": [],
   "source": [
    "RESET=False\n",
    "if RESET:\n",
    "    df=pd.DataFrame()\n",
    "else:\n",
    "    df=pd.read_json('followers.json')"
   ]
  },
  {
   "cell_type": "code",
   "execution_count": 5,
   "metadata": {},
   "outputs": [
    {
     "name": "stdin",
     "output_type": "stream",
     "text": [
      "user rescolo71\n",
      "password ········\n"
     ]
    }
   ],
   "source": [
    "u=input('user')\n",
    "p=getpass.getpass('password')"
   ]
  },
  {
   "cell_type": "code",
   "execution_count": 6,
   "metadata": {},
   "outputs": [],
   "source": [
    "hell.click('Log In')\n",
    "hell.write(u,into='Phone number, username, or email')\n",
    "hell.write(p,into='Password')\n",
    "\n",
    "hell.click('Log In')\n",
    "\n",
    "try:\n",
    "    hell.click('Save Info')\n",
    "except:\n",
    "    pass\n",
    "h=browser.get('https://www.instagram.com/paulacano24/')"
   ]
  },
  {
   "cell_type": "code",
   "execution_count": null,
   "metadata": {},
   "outputs": [
    {
     "name": "stdout",
     "output_type": "stream",
     "text": [
      "{'followers': 58867, 'date_time': Timestamp('2021-11-24 03:02:12.786337')}\n",
      "{'followers': 58866, 'date_time': Timestamp('2021-11-24 04:02:17.023328')}\n",
      "{'followers': 58869, 'date_time': Timestamp('2021-11-24 05:02:21.092710')}\n",
      "{'followers': 58873, 'date_time': Timestamp('2021-11-24 06:02:24.164024')}\n",
      "{'followers': 58875, 'date_time': Timestamp('2021-11-24 07:02:28.287540')}\n",
      "{'followers': 58874, 'date_time': Timestamp('2021-11-24 08:02:30.915022')}\n",
      "{'followers': 58876, 'date_time': Timestamp('2021-11-24 09:02:34.907720')}\n",
      "{'followers': 58876, 'date_time': Timestamp('2021-11-24 10:02:38.526182')}\n",
      "{'followers': 58881, 'date_time': Timestamp('2021-11-24 11:02:42.053067')}\n",
      "{'followers': 58884, 'date_time': Timestamp('2021-11-24 12:02:46.156761')}\n",
      "{'followers': 58885, 'date_time': Timestamp('2021-11-24 13:02:50.001400')}\n",
      "{'followers': 58887, 'date_time': Timestamp('2021-11-24 14:02:53.681039')}\n",
      "{'followers': 58892, 'date_time': Timestamp('2021-11-24 15:02:58.225626')}\n",
      "{'followers': 58898, 'date_time': Timestamp('2021-11-24 16:03:01.504317')}\n",
      "{'followers': 58901, 'date_time': Timestamp('2021-11-24 17:03:05.883231')}\n",
      "{'followers': 58904, 'date_time': Timestamp('2021-11-24 18:03:09.541239')}\n",
      "{'followers': 58911, 'date_time': Timestamp('2021-11-24 19:03:12.436005')}\n",
      "{'followers': 58915, 'date_time': Timestamp('2021-11-24 21:37:38.439862')}\n",
      "{'followers': 58946, 'date_time': Timestamp('2021-11-25 04:33:24.886081')}\n",
      "{'followers': 58947, 'date_time': Timestamp('2021-11-25 05:33:28.246157')}\n",
      "{'followers': 58946, 'date_time': Timestamp('2021-11-25 06:33:31.243512')}\n",
      "{'followers': 58946, 'date_time': Timestamp('2021-11-25 07:33:34.939346')}\n",
      "{'followers': 58948, 'date_time': Timestamp('2021-11-25 08:33:38.970550')}\n",
      "{'followers': 58949, 'date_time': Timestamp('2021-11-25 09:33:43.459797')}\n",
      "{'followers': 58950, 'date_time': Timestamp('2021-11-25 10:33:47.990678')}\n",
      "{'followers': 58952, 'date_time': Timestamp('2021-11-25 11:33:52.158808')}\n",
      "{'followers': 58953, 'date_time': Timestamp('2021-11-25 12:33:55.793536')}\n",
      "{'followers': 58957, 'date_time': Timestamp('2021-11-25 13:34:00.080400')}\n"
     ]
    }
   ],
   "source": [
    "while True:\n",
    "    try:\n",
    "        browser.refresh()\n",
    "    except:\n",
    "        time.sleep(3600)\n",
    "        continue\n",
    "    try:\n",
    "        f=browser.find_elements_by_class_name('g47SY ')[1].get_attribute('title')\n",
    "        f=int(f.replace(',',''))\n",
    "    except:\n",
    "        hell.write(u,into='Phone number, username, or email')\n",
    "        hell.write(p,into='Password')\n",
    "        hell.click('Log In')\n",
    "        try:\n",
    "            hell.click('Save Info')\n",
    "        except:\n",
    "            pass\n",
    "        h=browser.get('https://www.instagram.com/paulacano24/')\n",
    "        try:\n",
    "            f=browser.find_elements_by_class_name('g47SY ')[1].get_attribute('title')\n",
    "            f=int(f.replace(',',''))\n",
    "        except:\n",
    "            f=0\n",
    "\n",
    "\n",
    "    if f:\n",
    "        #https://www.datasciencemadesimple.com/populate-current-datetime-in-pandas-python-2/\n",
    "        d={'followers':f ,'date_time': pd.to_datetime('now')}\n",
    "        print(d)\n",
    "        df=df.append(d,ignore_index=True)\n",
    "        df['followers']=df['followers'].astype(int)\n",
    "        df.to_json('followers.json',orient='records')\n",
    "    time.sleep(3600)"
   ]
  },
  {
   "cell_type": "code",
   "execution_count": null,
   "metadata": {},
   "outputs": [],
   "source": [
    "pd.read_json('followers.json')"
   ]
  },
  {
   "cell_type": "code",
   "execution_count": null,
   "metadata": {},
   "outputs": [],
   "source": []
  },
  {
   "cell_type": "code",
   "execution_count": null,
   "metadata": {},
   "outputs": [],
   "source": []
  }
 ],
 "metadata": {
  "kernelspec": {
   "display_name": "Python 3 (ipykernel)",
   "language": "python",
   "name": "python3"
  },
  "language_info": {
   "codemirror_mode": {
    "name": "ipython",
    "version": 3
   },
   "file_extension": ".py",
   "mimetype": "text/x-python",
   "name": "python",
   "nbconvert_exporter": "python",
   "pygments_lexer": "ipython3",
   "version": "3.7.3"
  }
 },
 "nbformat": 4,
 "nbformat_minor": 4
}
